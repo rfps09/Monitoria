{
 "cells": [
  {
   "cell_type": "code",
   "execution_count": null,
   "metadata": {},
   "outputs": [],
   "source": [
    "import numpy as np\n",
    "from pyts.image import GramianAngularField\n",
    "from pyts.image import MarkovTransitionField\n",
    "from pyts.image import RecurrencePlot\n",
    "from PIL import Image\n",
    "import matplotlib.pyplot as plt\n",
    "import os\n",
    "\n",
    "data_paths = [['DataSets/mitbih_train_smote.csv','Datasets/mitbih_fusion_smote_227/train/'],['DataSets/mitbih_test.csv','Datasets/mitbih_fusion_smote_227/test/',]]\n",
    "\n",
    "for path in data_paths:\n",
    "    all_temp_serie = np.genfromtxt(path[0], delimiter=',')\n",
    "\n",
    "    for i,temp_serie in enumerate(all_temp_serie):\n",
    "        y = temp_serie[-1]\n",
    "        x = np.delete(temp_serie,-1)\n",
    "        x = np.concatenate((x,np.zeros(40)))\n",
    "        x = np.expand_dims(x,axis=0)\n",
    "\n",
    "        gaf = GramianAngularField(method='summation')\n",
    "        mtf = MarkovTransitionField(n_bins=10,strategy='uniform')\n",
    "        rp = RecurrencePlot(threshold=0.1,percentage=10)\n",
    "\n",
    "        gaf_img_serie = (gaf.fit_transform(x) + 1) / 2\n",
    "        mtf_img_serie = mtf.fit_transform(x)\n",
    "        rp_img_serie = rp.fit_transform(x)\n",
    "\n",
    "        img_serie = np.stack((gaf_img_serie,mtf_img_serie,rp_img_serie),axis=1)\n",
    "        img_serie = np.moveaxis(img_serie,1,-1)\n",
    "\n",
    "        save_path = path[1] + str(int(y)) + '/'\n",
    "        if not os.path.exists(save_path):\n",
    "            os.makedirs(save_path)\n",
    "        img = Image.fromarray((img_serie.squeeze()*255).astype(np.uint8),'RGB')\n",
    "        name = str(i) +'_gmr_fusion_' + 'class_' + str(int(y)) + '.jpg'\n",
    "        img.save(save_path + name, 'JPEG')"
   ]
  }
 ],
 "metadata": {
  "kernelspec": {
   "display_name": "Python 3",
   "language": "python",
   "name": "python3"
  },
  "language_info": {
   "codemirror_mode": {
    "name": "ipython",
    "version": 3
   },
   "file_extension": ".py",
   "mimetype": "text/x-python",
   "name": "python",
   "nbconvert_exporter": "python",
   "pygments_lexer": "ipython3",
   "version": "3.10.8"
  },
  "orig_nbformat": 4,
  "vscode": {
   "interpreter": {
    "hash": "c7eb35bf8493b15a7794fd0a89c627863cb8195addfe4e8a6a5f6b5be170870a"
   }
  }
 },
 "nbformat": 4,
 "nbformat_minor": 2
}
