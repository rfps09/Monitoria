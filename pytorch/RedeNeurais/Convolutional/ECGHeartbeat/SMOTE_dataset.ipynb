{
 "cells": [
  {
   "cell_type": "code",
   "execution_count": 11,
   "metadata": {},
   "outputs": [],
   "source": [
    "import numpy as np\n",
    "\n",
    "x = np.genfromtxt('Datasets/mitbih_train.csv', delimiter=',')\n",
    "y = x[:,-1]\n",
    "x = np.delete(x,-1,axis=1)"
   ]
  },
  {
   "cell_type": "code",
   "execution_count": 36,
   "metadata": {},
   "outputs": [],
   "source": [
    "from imblearn.over_sampling import SMOTE\n",
    "\n",
    "smt = SMOTE(sampling_strategy={1: 30000, 2: 20000, 3: 20000, 4: 10000}, random_state=42)\n",
    "x_smote, y_smote = smt.fit_resample(x,y)"
   ]
  },
  {
   "cell_type": "code",
   "execution_count": 51,
   "metadata": {},
   "outputs": [],
   "source": [
    "new_dataset = np.concatenate((x_smote, y_smote.reshape((-1,1))), axis=1)\n",
    "np.savetxt(\"Datasets/mitbih_train_smote.csv\", new_dataset, delimiter=\",\")"
   ]
  }
 ],
 "metadata": {
  "kernelspec": {
   "display_name": "Python 3",
   "language": "python",
   "name": "python3"
  },
  "language_info": {
   "codemirror_mode": {
    "name": "ipython",
    "version": 3
   },
   "file_extension": ".py",
   "mimetype": "text/x-python",
   "name": "python",
   "nbconvert_exporter": "python",
   "pygments_lexer": "ipython3",
   "version": "3.10.8"
  },
  "orig_nbformat": 4,
  "vscode": {
   "interpreter": {
    "hash": "c7eb35bf8493b15a7794fd0a89c627863cb8195addfe4e8a6a5f6b5be170870a"
   }
  }
 },
 "nbformat": 4,
 "nbformat_minor": 2
}
