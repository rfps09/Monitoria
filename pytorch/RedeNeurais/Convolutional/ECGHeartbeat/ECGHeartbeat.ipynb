{
 "cells": [
  {
   "cell_type": "code",
   "execution_count": 5,
   "metadata": {},
   "outputs": [
    {
     "name": "stdout",
     "output_type": "stream",
     "text": [
      "cuda:0\n"
     ]
    }
   ],
   "source": [
    "import torch\n",
    "if torch.cuda.is_available():\n",
    "    dev = \"cuda:0\"\n",
    "else:\n",
    "    dev = \"cpu\"\n",
    "device = torch.device(dev)\n",
    "print(dev)"
   ]
  },
  {
   "cell_type": "code",
   "execution_count": 6,
   "metadata": {},
   "outputs": [
    {
     "data": {
      "text/plain": [
       "87554"
      ]
     },
     "execution_count": 6,
     "metadata": {},
     "output_type": "execute_result"
    }
   ],
   "source": [
    "import torch\n",
    "import torchvision\n",
    "from torchvision import transforms\n",
    "from sklearn.model_selection import train_test_split\n",
    "\n",
    "transform = transforms.Compose(\n",
    "    [\n",
    "        # transforms.Resize(size=(227, 227)),\n",
    "        transforms.ToTensor(),\n",
    "        transforms.Normalize(mean=[0.6900, 0.4713, 0.5236], std=[0.3172, 0.4550, 0.4746]),\n",
    "        # transforms.Normalize(mean=[0.5685, 0.2570, 0.4582], std=[0.3371, 0.3743, 0.4563]),\n",
    "    ]\n",
    ")\n",
    "\n",
    "train_data_path = 'DataSets/mitbih_fusion_227/train/'\n",
    "test_data_path = 'DataSets/mitbih_fusion_227/test/'\n",
    "\n",
    "dir_train = torchvision.datasets.ImageFolder(train_data_path,transform=transform)\n",
    "train_data = torch.utils.data.DataLoader(dir_train,batch_size=128,shuffle=True,num_workers=8)\n",
    "\n",
    "dir_test = torchvision.datasets.ImageFolder(test_data_path,transform=transform)\n",
    "test_data = torch.utils.data.DataLoader(dir_test,batch_size=32,shuffle=True,num_workers=8)\n",
    "\n",
    "len(train_data.dataset)"
   ]
  },
  {
   "cell_type": "code",
   "execution_count": 7,
   "metadata": {},
   "outputs": [],
   "source": [
    "# imgs = torch.stack([i for img,_ in test_data for i in img], dim=3)\n",
    "# media = imgs.view(3,-1).mean(dim=1)\n",
    "# desvio = imgs.view(3,-1).std(dim=1)\n",
    "# print(media,desvio)"
   ]
  },
  {
   "cell_type": "code",
   "execution_count": 8,
   "metadata": {},
   "outputs": [],
   "source": [
    "def train_one_epoch(NeuralNet,Loss,Optimizer,data_treino):\n",
    "    NeuralNet.train(True)\n",
    "    current_loss = 0.0\n",
    "    current_accuracy = 0.0\n",
    "    total_samples = 0\n",
    "\n",
    "    for i,data in enumerate(data_treino):\n",
    "        x,y = data\n",
    "        x = x.to(device)\n",
    "        y = y.to(device)\n",
    "        Optimizer.zero_grad()\n",
    "        output = NeuralNet(x)\n",
    "        loss = Loss(output,y)\n",
    "        current_loss += loss.item()\n",
    "        loss.backward()\n",
    "        Optimizer.step()\n",
    "        \n",
    "        output = output.argmax(dim=1)\n",
    "        batch_accuracy = torch.eq(output,y)\n",
    "        batch_accuracy = batch_accuracy.sum()\n",
    "        current_accuracy += batch_accuracy\n",
    "        total_samples += len(x)\n",
    "\n",
    "    return current_loss/(i+1), (current_accuracy/total_samples).to('cpu')"
   ]
  },
  {
   "cell_type": "code",
   "execution_count": 9,
   "metadata": {},
   "outputs": [],
   "source": [
    "def validation_one_epoch(NeuralNet,Loss,val_data):\n",
    "    NeuralNet.train(False)\n",
    "    current_loss = 0.0\n",
    "    current_accuracy = 0.0\n",
    "    total_samples = len(val_data.dataset)\n",
    "    \n",
    "    for i,data in enumerate(val_data):\n",
    "        x,y = data\n",
    "        x = x.to(device)\n",
    "        y = y.to(device)\n",
    "        output = NeuralNet(x)\n",
    "        loss = Loss(output,y)\n",
    "        current_loss += loss.item()\n",
    "\n",
    "        output = output.argmax(dim=1)\n",
    "        batch_accuracy = torch.eq(output,y)\n",
    "        batch_accuracy = batch_accuracy.sum()\n",
    "        current_accuracy += batch_accuracy\n",
    "    return current_loss/(i+1), (current_accuracy/total_samples).to('cpu')"
   ]
  },
  {
   "cell_type": "code",
   "execution_count": 10,
   "metadata": {},
   "outputs": [
    {
     "data": {
      "text/plain": [
       "AlexNet(\n",
       "  (features): Sequential(\n",
       "    (0): Conv2d(3, 64, kernel_size=(11, 11), stride=(4, 4), padding=(2, 2))\n",
       "    (1): ReLU(inplace=True)\n",
       "    (2): MaxPool2d(kernel_size=3, stride=2, padding=0, dilation=1, ceil_mode=False)\n",
       "    (3): Conv2d(64, 192, kernel_size=(5, 5), stride=(1, 1), padding=(2, 2))\n",
       "    (4): ReLU(inplace=True)\n",
       "    (5): MaxPool2d(kernel_size=3, stride=2, padding=0, dilation=1, ceil_mode=False)\n",
       "    (6): Conv2d(192, 384, kernel_size=(3, 3), stride=(1, 1), padding=(1, 1))\n",
       "    (7): ReLU(inplace=True)\n",
       "    (8): Conv2d(384, 256, kernel_size=(3, 3), stride=(1, 1), padding=(1, 1))\n",
       "    (9): ReLU(inplace=True)\n",
       "    (10): Conv2d(256, 256, kernel_size=(3, 3), stride=(1, 1), padding=(1, 1))\n",
       "    (11): ReLU(inplace=True)\n",
       "    (12): MaxPool2d(kernel_size=3, stride=2, padding=0, dilation=1, ceil_mode=False)\n",
       "  )\n",
       "  (avgpool): AdaptiveAvgPool2d(output_size=(6, 6))\n",
       "  (classifier): Sequential(\n",
       "    (0): Dropout(p=0.5, inplace=False)\n",
       "    (1): Linear(in_features=9216, out_features=4096, bias=True)\n",
       "    (2): ReLU(inplace=True)\n",
       "    (3): Dropout(p=0.5, inplace=False)\n",
       "    (4): Linear(in_features=4096, out_features=4096, bias=True)\n",
       "    (5): ReLU(inplace=True)\n",
       "    (6): Linear(in_features=4096, out_features=1000, bias=True)\n",
       "    (7): Linear(in_features=1000, out_features=5, bias=True)\n",
       "  )\n",
       ")"
      ]
     },
     "execution_count": 10,
     "metadata": {},
     "output_type": "execute_result"
    }
   ],
   "source": [
    "from torch import nn\n",
    "import torchvision.models as models\n",
    "\n",
    "cnn = models.alexnet(weights=models.AlexNet_Weights.DEFAULT)\n",
    "for i,param in enumerate(cnn.parameters()):\n",
    "    if i >= 5: break\n",
    "    param.requires_grad=False\n",
    "num_ftrs = cnn.classifier[6].out_features\n",
    "cnn.classifier.add_module(\"7\",nn.Linear(num_ftrs, 5))\n",
    "cnn.to(device)"
   ]
  },
  {
   "cell_type": "code",
   "execution_count": 11,
   "metadata": {},
   "outputs": [],
   "source": [
    "loss_function = nn.CrossEntropyLoss()\n",
    "optimizer = torch.optim.SGD(cnn.parameters(),lr=1e-3,momentum=0.9)"
   ]
  },
  {
   "cell_type": "code",
   "execution_count": 12,
   "metadata": {},
   "outputs": [
    {
     "name": "stdout",
     "output_type": "stream",
     "text": [
      "Starting epoch 1\n",
      "Train Loss: 0.2870397604730007\n",
      "Val Loss: 0.18125042962930063\n",
      "Train Accuracy: 0.923704206943512\n",
      "Val Accuracy: 0.950301468372345\n",
      "\n",
      "Starting epoch 2\n",
      "Train Loss: 0.17456417985287678\n",
      "Val Loss: 0.14753107546291647\n",
      "Train Accuracy: 0.9514813423156738\n",
      "Val Accuracy: 0.9603964686393738\n",
      "\n",
      "Starting epoch 3\n",
      "Train Loss: 0.1401151827896816\n",
      "Val Loss: 0.12176043840845789\n",
      "Train Accuracy: 0.9613609910011292\n",
      "Val Accuracy: 0.9670655727386475\n",
      "\n",
      "Starting epoch 4\n",
      "Train Loss: 0.1224756577857736\n",
      "Val Loss: 0.11171232482255267\n",
      "Train Accuracy: 0.9661923050880432\n",
      "Val Accuracy: 0.9693495035171509\n",
      "\n",
      "Starting epoch 5\n",
      "Train Loss: 0.10801316191353937\n",
      "Val Loss: 0.10758501508946183\n",
      "Train Accuracy: 0.9702126383781433\n",
      "Val Accuracy: 0.9713137149810791\n",
      "\n",
      "Starting epoch 6\n",
      "Train Loss: 0.09939703623879782\n",
      "Val Loss: 0.10005720584911641\n",
      "Train Accuracy: 0.9721543192863464\n",
      "Val Accuracy: 0.9725927114486694\n",
      "\n",
      "Starting epoch 7\n",
      "Train Loss: 0.09250072466658198\n",
      "Val Loss: 0.09742696218559668\n",
      "Train Accuracy: 0.973970353603363\n",
      "Val Accuracy: 0.9733235836029053\n",
      "\n",
      "Starting epoch 8\n",
      "Train Loss: 0.08496003396028183\n",
      "Val Loss: 0.09190894575606025\n",
      "Train Accuracy: 0.9754551649093628\n",
      "Val Accuracy: 0.9746482372283936\n",
      "\n",
      "Starting epoch 9\n",
      "Train Loss: 0.07987404174654045\n",
      "Val Loss: 0.08892661880627002\n",
      "Train Accuracy: 0.9770312905311584\n",
      "Val Accuracy: 0.9754704833030701\n",
      "\n",
      "Starting epoch 10\n",
      "Train Loss: 0.0749458564933131\n",
      "Val Loss: 0.08819278261902994\n",
      "Train Accuracy: 0.9778993725776672\n",
      "Val Accuracy: 0.9756531715393066\n",
      "\n",
      "Starting epoch 11\n",
      "Train Loss: 0.07022166346560103\n",
      "Val Loss: 0.08400196478919664\n",
      "Train Accuracy: 0.9792699217796326\n",
      "Val Accuracy: 0.9767038226127625\n",
      "\n",
      "Starting epoch 12\n",
      "Train Loss: 0.06603973301018785\n",
      "Val Loss: 0.08546350118755125\n",
      "Train Accuracy: 0.9803435802459717\n",
      "Val Accuracy: 0.9767494797706604\n",
      "\n",
      "Starting epoch 13\n",
      "Train Loss: 0.06251868342124198\n",
      "Val Loss: 0.08422478472246334\n",
      "Train Accuracy: 0.9810174107551575\n",
      "Val Accuracy: 0.976566731929779\n",
      "\n",
      "Starting epoch 14\n",
      "Train Loss: 0.059406883586504\n",
      "Val Loss: 0.08348515307561352\n",
      "Train Accuracy: 0.9819654226303101\n",
      "Val Accuracy: 0.9765210747718811\n",
      "\n",
      "Starting epoch 15\n",
      "Train Loss: 0.05511653807258954\n",
      "Val Loss: 0.08503036080820513\n",
      "Train Accuracy: 0.9830618500709534\n",
      "Val Accuracy: 0.9767951369285583\n",
      "\n",
      "Starting epoch 16\n",
      "Train Loss: 0.05182891469822693\n",
      "Val Loss: 0.09244263903586275\n",
      "Train Accuracy: 0.9837700128555298\n",
      "Val Accuracy: 0.9771605730056763\n",
      "\n",
      "Starting epoch 17\n",
      "Train Loss: 0.04906768826699823\n",
      "Val Loss: 0.08517752640233137\n",
      "Train Accuracy: 0.9844667315483093\n",
      "Val Accuracy: 0.9779371023178101\n",
      "\n",
      "Starting epoch 18\n",
      "Train Loss: 0.045099279047907705\n",
      "Val Loss: 0.08350591293534428\n",
      "Train Accuracy: 0.9858258962631226\n",
      "Val Accuracy: 0.9785309433937073\n",
      "\n",
      "Starting epoch 19\n",
      "Train Loss: 0.042779684372171486\n",
      "Val Loss: 0.08827866021302413\n",
      "Train Accuracy: 0.9864312410354614\n",
      "Val Accuracy: 0.9777544140815735\n",
      "\n",
      "Starting epoch 20\n",
      "Train Loss: 0.0399731086776082\n",
      "Val Loss: 0.07829567055204326\n",
      "Train Accuracy: 0.9871165156364441\n",
      "Val Accuracy: 0.9797185659408569\n",
      "\n",
      "Training process has finished.\n"
     ]
    }
   ],
   "source": [
    "epochs = 20\n",
    "train_loss_all_epoch = []\n",
    "train_accuracy_all_epoch = []\n",
    "val_loss_all_epoch = []\n",
    "val_accuracy_all_epoch = []\n",
    "loss_best_model = 1e9\n",
    "\n",
    "for epoch in range(epochs):\n",
    "    print(f'Starting epoch {epoch+1}')\n",
    "\n",
    "    train_loss_per_epoch, train_accuracy_per_epoch = train_one_epoch(cnn,loss_function,optimizer,train_data)\n",
    "\n",
    "    train_loss_all_epoch.append(train_loss_per_epoch)\n",
    "    train_accuracy_all_epoch.append(train_accuracy_per_epoch)\n",
    "\n",
    "    val_loss_per_epoch,val_accuracy_per_epoch = validation_one_epoch(cnn,loss_function,test_data)\n",
    "    \n",
    "    val_loss_all_epoch.append(val_loss_per_epoch)\n",
    "    val_accuracy_all_epoch.append(val_accuracy_per_epoch)\n",
    "\n",
    "    if val_loss_per_epoch < loss_best_model:\n",
    "        loss_best_model = val_loss_per_epoch\n",
    "        model_path = 'SavedModels/test_model'\n",
    "        torch.save(cnn.state_dict(),model_path)\n",
    "\n",
    "    print(f'Train Loss: {train_loss_per_epoch}')\n",
    "    print(f'Val Loss: {val_loss_per_epoch}')\n",
    "    print(f'Train Accuracy: {train_accuracy_per_epoch}')\n",
    "    print(f'Val Accuracy: {val_accuracy_per_epoch}')\n",
    "    print()\n",
    "\n",
    "print('Training process has finished.')"
   ]
  },
  {
   "cell_type": "code",
   "execution_count": 13,
   "metadata": {},
   "outputs": [
    {
     "data": {
      "image/png": "[encoded data removed]",
      "text/plain": [
       "<Figure size 640x480 with 1 Axes>"
      ]
     },
     "metadata": {},
     "output_type": "display_data"
    }
   ],
   "source": [
    "import matplotlib.pyplot as plt\n",
    "\n",
    "plt.plot(train_loss_all_epoch)\n",
    "plt.plot(val_loss_all_epoch)\n",
    "plt.legend(['Treino', 'Validação'])\n",
    "plt.xlabel('Épocas')\n",
    "\n",
    "plt.show()"
   ]
  },
  {
   "cell_type": "code",
   "execution_count": 14,
   "metadata": {},
   "outputs": [
    {
     "data": {
      "image/png": "[encoded data removed]",
      "text/plain": [
       "<Figure size 640x480 with 1 Axes>"
      ]
     },
     "metadata": {},
     "output_type": "display_data"
    }
   ],
   "source": [
    "import matplotlib.pyplot as plt\n",
    "\n",
    "plt.plot(train_accuracy_all_epoch)\n",
    "plt.plot(val_accuracy_all_epoch)\n",
    "plt.legend(['Treino', 'Validação'])\n",
    "plt.xlabel('Épocas')\n",
    "\n",
    "plt.show()"
   ]
  },
  {
   "cell_type": "code",
   "execution_count": 15,
   "metadata": {},
   "outputs": [
    {
     "name": "stdout",
     "output_type": "stream",
     "text": [
      "              precision    recall  f1-score   support\n",
      "\n",
      "         0.0    0.98401   0.99514   0.98954     18118\n",
      "         1.0    0.91885   0.69245   0.78974       556\n",
      "         2.0    0.94892   0.93646   0.94265      1448\n",
      "         3.0    0.81343   0.67284   0.73649       162\n",
      "         4.0    0.98803   0.97512   0.98153      1608\n",
      "\n",
      "    accuracy                        0.97972     21892\n",
      "   macro avg    0.93065   0.85440   0.88799     21892\n",
      "weighted avg    0.97907   0.97972   0.97891     21892\n",
      "\n"
     ]
    }
   ],
   "source": [
    "from sklearn.metrics import classification_report\n",
    "\n",
    "cnn.train(False)\n",
    "\n",
    "all_pred = torch.tensor([]).to(device)\n",
    "all_true = torch.tensor([]).to(device)\n",
    "\n",
    "for data in test_data:\n",
    "    x_test,y_test = data\n",
    "    x_test = x_test.to(device)\n",
    "    y_test = y_test.to(device)\n",
    "    y_pred = cnn(x_test)\n",
    "    y_pred = torch.Tensor.argmax(y_pred, dim=1)\n",
    "    all_pred = torch.cat((all_pred,y_pred))\n",
    "    all_true = torch.cat((all_true,y_test))\n",
    "\n",
    "all_true = all_true.to('cpu')\n",
    "all_pred = all_pred.to('cpu')\n",
    "print(classification_report(all_true,all_pred,zero_division=1,digits=5))"
   ]
  },
  {
   "cell_type": "code",
   "execution_count": 23,
   "metadata": {},
   "outputs": [
    {
     "data": {
      "text/plain": [
       "AlexNet(\n",
       "  (features): Sequential(\n",
       "    (0): Conv2d(3, 64, kernel_size=(11, 11), stride=(4, 4), padding=(2, 2))\n",
       "    (1): ReLU(inplace=True)\n",
       "    (2): MaxPool2d(kernel_size=3, stride=2, padding=0, dilation=1, ceil_mode=False)\n",
       "    (3): Conv2d(64, 192, kernel_size=(5, 5), stride=(1, 1), padding=(2, 2))\n",
       "    (4): ReLU(inplace=True)\n",
       "    (5): MaxPool2d(kernel_size=3, stride=2, padding=0, dilation=1, ceil_mode=False)\n",
       "    (6): Conv2d(192, 384, kernel_size=(3, 3), stride=(1, 1), padding=(1, 1))\n",
       "    (7): ReLU(inplace=True)\n",
       "    (8): Conv2d(384, 256, kernel_size=(3, 3), stride=(1, 1), padding=(1, 1))\n",
       "    (9): ReLU(inplace=True)\n",
       "    (10): Conv2d(256, 256, kernel_size=(3, 3), stride=(1, 1), padding=(1, 1))\n",
       "    (11): ReLU(inplace=True)\n",
       "    (12): MaxPool2d(kernel_size=3, stride=2, padding=0, dilation=1, ceil_mode=False)\n",
       "  )\n",
       "  (avgpool): AdaptiveAvgPool2d(output_size=(6, 6))\n",
       "  (classifier): Sequential(\n",
       "    (0): Dropout(p=0.5, inplace=False)\n",
       "    (1): Linear(in_features=9216, out_features=4096, bias=True)\n",
       "    (2): ReLU(inplace=True)\n",
       "    (3): Dropout(p=0.5, inplace=False)\n",
       "    (4): Linear(in_features=4096, out_features=4096, bias=True)\n",
       "    (5): ReLU(inplace=True)\n",
       "    (6): Linear(in_features=4096, out_features=1000, bias=True)\n",
       "    (7): Linear(in_features=1000, out_features=5, bias=True)\n",
       "  )\n",
       ")"
      ]
     },
     "execution_count": 23,
     "metadata": {},
     "output_type": "execute_result"
    }
   ],
   "source": [
    "import torch\n",
    "import torchvision.models as models\n",
    "\n",
    "saved_model = models.alexnet()\n",
    "num_ftrs = saved_model.classifier[6].out_features\n",
    "saved_model.classifier.add_module(\"7\",nn.Linear(num_ftrs, 5))\n",
    "\n",
    "saved_model.load_state_dict(torch.load('SavedModels/best_model'))\n",
    "\n",
    "saved_model.to(device)"
   ]
  },
  {
   "cell_type": "code",
   "execution_count": 24,
   "metadata": {},
   "outputs": [
    {
     "name": "stdout",
     "output_type": "stream",
     "text": [
      "              precision    recall  f1-score   support\n",
      "\n",
      "         0.0    0.98401   0.99514   0.98954     18118\n",
      "         1.0    0.91885   0.69245   0.78974       556\n",
      "         2.0    0.94892   0.93646   0.94265      1448\n",
      "         3.0    0.81343   0.67284   0.73649       162\n",
      "         4.0    0.98803   0.97512   0.98153      1608\n",
      "\n",
      "    accuracy                        0.97972     21892\n",
      "   macro avg    0.93065   0.85440   0.88799     21892\n",
      "weighted avg    0.97907   0.97972   0.97891     21892\n",
      "\n"
     ]
    }
   ],
   "source": [
    "from sklearn.metrics import classification_report\n",
    "\n",
    "saved_model.train(False)\n",
    "\n",
    "all_pred = torch.tensor([]).to(device)\n",
    "all_true = torch.tensor([]).to(device)\n",
    "\n",
    "for data in test_data:\n",
    "    x_test,y_test = data\n",
    "    x_test = x_test.to(device)\n",
    "    y_test = y_test.to(device)\n",
    "    y_pred = saved_model(x_test)\n",
    "    y_pred = torch.Tensor.argmax(y_pred, dim=1)\n",
    "    all_pred = torch.cat((all_pred,y_pred))\n",
    "    all_true = torch.cat((all_true,y_test))\n",
    "\n",
    "all_true = all_true.to('cpu')\n",
    "all_pred = all_pred.to('cpu')\n",
    "print(classification_report(all_true,all_pred,zero_division=1,digits=5))"
   ]
  }
 ],
 "metadata": {
  "kernelspec": {
   "display_name": "Python 3",
   "language": "python",
   "name": "python3"
  },
  "language_info": {
   "codemirror_mode": {
    "name": "ipython",
    "version": 3
   },
   "file_extension": ".py",
   "mimetype": "text/x-python",
   "name": "python",
   "nbconvert_exporter": "python",
   "pygments_lexer": "ipython3",
   "version": "3.10.8"
  },
  "orig_nbformat": 4,
  "vscode": {
   "interpreter": {
    "hash": "c7eb35bf8493b15a7794fd0a89c627863cb8195addfe4e8a6a5f6b5be170870a"
   }
  }
 },
 "nbformat": 4,
 "nbformat_minor": 2
}
