{
 "cells": [
  {
   "cell_type": "code",
   "execution_count": 1,
   "metadata": {},
   "outputs": [
    {
     "name": "stderr",
     "output_type": "stream",
     "text": [
      "c:\\Users\\BraboDeBH\\AppData\\Local\\Programs\\Python\\Python310\\lib\\site-packages\\tqdm\\auto.py:22: TqdmWarning: IProgress not found. Please update jupyter and ipywidgets. See https://ipywidgets.readthedocs.io/en/stable/user_install.html\n",
      "  from .autonotebook import tqdm as notebook_tqdm\n"
     ]
    },
    {
     "name": "stdout",
     "output_type": "stream",
     "text": [
      "cuda:0\n"
     ]
    }
   ],
   "source": [
    "import torch\n",
    "if torch.cuda.is_available():\n",
    "    dev = \"cuda:0\"\n",
    "else:\n",
    "    dev = \"cpu\"\n",
    "device = torch.device(dev)\n",
    "print(dev)"
   ]
  },
  {
   "cell_type": "code",
   "execution_count": 2,
   "metadata": {},
   "outputs": [
    {
     "data": {
      "text/plain": [
       "25365"
      ]
     },
     "execution_count": 2,
     "metadata": {},
     "output_type": "execute_result"
    }
   ],
   "source": [
    "import torch\n",
    "import torchvision\n",
    "from torchvision import transforms\n",
    "from sklearn.model_selection import train_test_split\n",
    "\n",
    "transform = transforms.Compose(\n",
    "    [\n",
    "        transforms.Resize(size=(227, 227)),\n",
    "        transforms.ToTensor(),\n",
    "        transforms.Normalize(mean=[0.5685, 0.2570, 0.4582], std=[0.3371, 0.3743, 0.4563]),\n",
    "    ]\n",
    ")\n",
    "\n",
    "train_data_path = 'DataSet/mitbih_fusion/train/'\n",
    "test_data_path = 'DataSet/mitbih_fusion/test/'\n",
    "\n",
    "dir_train = torchvision.datasets.ImageFolder(train_data_path,transform=transform)\n",
    "train_data = torch.utils.data.DataLoader(dir_train,batch_size=256,shuffle=True,num_workers=8)\n",
    "\n",
    "dir_test = torchvision.datasets.ImageFolder(test_data_path,transform=transform)\n",
    "test_data = torch.utils.data.DataLoader(dir_test,batch_size=32,shuffle=True,num_workers=8)\n",
    "\n",
    "len(train_data.dataset)"
   ]
  },
  {
   "cell_type": "code",
   "execution_count": 3,
   "metadata": {},
   "outputs": [],
   "source": [
    "# imgs = torch.stack([i for img,_ in train_data for i in img], dim=3)\n",
    "# media = imgs.view(3,-1).mean(dim=1)\n",
    "# desvio = imgs.view(3,-1).std(dim=1)\n",
    "# print(media,desvio)"
   ]
  },
  {
   "cell_type": "code",
   "execution_count": 4,
   "metadata": {},
   "outputs": [],
   "source": [
    "def train_one_epoch(NeuralNet,Loss,Optimizer,data_treino):\n",
    "    NeuralNet.train(True)\n",
    "    current_loss = 0.0\n",
    "    current_accuracy = 0.0\n",
    "    total_samples = 0\n",
    "\n",
    "    for i,data in enumerate(data_treino):\n",
    "        x,y = data\n",
    "        x = x.to(device)\n",
    "        y = y.to(device)\n",
    "        Optimizer.zero_grad()\n",
    "        output = NeuralNet(x)\n",
    "        loss = Loss(output,y)\n",
    "        current_loss += loss.item()\n",
    "        loss.backward()\n",
    "        Optimizer.step()\n",
    "        \n",
    "        output = output.argmax(dim=1)\n",
    "        batch_accuracy = torch.eq(output,y)\n",
    "        batch_accuracy = batch_accuracy.sum()\n",
    "        current_accuracy += batch_accuracy\n",
    "        total_samples += len(x)\n",
    "\n",
    "    return current_loss/(i+1), (current_accuracy/total_samples).to('cpu')"
   ]
  },
  {
   "cell_type": "code",
   "execution_count": 5,
   "metadata": {},
   "outputs": [],
   "source": [
    "def validation_one_epoch(NeuralNet,Loss,val_data):\n",
    "    NeuralNet.train(False)\n",
    "    current_loss = 0.0\n",
    "    current_accuracy = 0.0\n",
    "    total_samples = len(val_data.dataset)\n",
    "    \n",
    "    for i,data in enumerate(val_data):\n",
    "        x,y = data\n",
    "        x = x.to(device)\n",
    "        y = y.to(device)\n",
    "        output = NeuralNet(x)\n",
    "        loss = Loss(output,y)\n",
    "        current_loss += loss.item()\n",
    "\n",
    "        output = output.argmax(dim=1)\n",
    "        batch_accuracy = torch.eq(output,y)\n",
    "        batch_accuracy = batch_accuracy.sum()\n",
    "        current_accuracy += batch_accuracy\n",
    "    return current_loss/(i+1), (current_accuracy/total_samples).to('cpu')"
   ]
  },
  {
   "cell_type": "code",
   "execution_count": 6,
   "metadata": {},
   "outputs": [
    {
     "data": {
      "text/plain": [
       "AlexNet(\n",
       "  (features): Sequential(\n",
       "    (0): Conv2d(3, 64, kernel_size=(11, 11), stride=(4, 4), padding=(2, 2))\n",
       "    (1): ReLU(inplace=True)\n",
       "    (2): MaxPool2d(kernel_size=3, stride=2, padding=0, dilation=1, ceil_mode=False)\n",
       "    (3): Conv2d(64, 192, kernel_size=(5, 5), stride=(1, 1), padding=(2, 2))\n",
       "    (4): ReLU(inplace=True)\n",
       "    (5): MaxPool2d(kernel_size=3, stride=2, padding=0, dilation=1, ceil_mode=False)\n",
       "    (6): Conv2d(192, 384, kernel_size=(3, 3), stride=(1, 1), padding=(1, 1))\n",
       "    (7): ReLU(inplace=True)\n",
       "    (8): Conv2d(384, 256, kernel_size=(3, 3), stride=(1, 1), padding=(1, 1))\n",
       "    (9): ReLU(inplace=True)\n",
       "    (10): Conv2d(256, 256, kernel_size=(3, 3), stride=(1, 1), padding=(1, 1))\n",
       "    (11): ReLU(inplace=True)\n",
       "    (12): MaxPool2d(kernel_size=3, stride=2, padding=0, dilation=1, ceil_mode=False)\n",
       "  )\n",
       "  (avgpool): AdaptiveAvgPool2d(output_size=(6, 6))\n",
       "  (classifier): Sequential(\n",
       "    (0): Dropout(p=0.5, inplace=False)\n",
       "    (1): Linear(in_features=9216, out_features=4096, bias=True)\n",
       "    (2): ReLU(inplace=True)\n",
       "    (3): Dropout(p=0.5, inplace=False)\n",
       "    (4): Linear(in_features=4096, out_features=4096, bias=True)\n",
       "    (5): ReLU(inplace=True)\n",
       "    (6): Linear(in_features=4096, out_features=1000, bias=True)\n",
       "  )\n",
       "  (fc): Linear(in_features=1000, out_features=5, bias=True)\n",
       ")"
      ]
     },
     "execution_count": 6,
     "metadata": {},
     "output_type": "execute_result"
    }
   ],
   "source": [
    "from torch import nn\n",
    "import torchvision.models as models\n",
    "\n",
    "cnn = models.alexnet(weights=models.AlexNet_Weights.DEFAULT)\n",
    "for i,param in enumerate(cnn.parameters()):\n",
    "    if i >= 5: break\n",
    "    param.requires_grad=False\n",
    "num_ftrs = cnn.classifier[6].out_features\n",
    "cnn.fc = nn.Linear(num_ftrs, 5)\n",
    "cnn.to(device)"
   ]
  },
  {
   "cell_type": "code",
   "execution_count": 7,
   "metadata": {},
   "outputs": [],
   "source": [
    "loss_function = nn.CrossEntropyLoss()\n",
    "optimizer = torch.optim.SGD(cnn.parameters(),lr=1e-3,momentum=0.9)"
   ]
  },
  {
   "cell_type": "code",
   "execution_count": 8,
   "metadata": {},
   "outputs": [
    {
     "name": "stdout",
     "output_type": "stream",
     "text": [
      "Starting epoch 1\n",
      "Train Loss: 1.19016608864069\n",
      "Val Loss: 0.36206221541755307\n",
      "Train Accuracy: 0.6968657970428467\n",
      "Val Accuracy: 0.8914458751678467\n",
      "\n",
      "Starting epoch 2\n",
      "Train Loss: 0.48295938372612\n",
      "Val Loss: 0.3478518731486995\n",
      "Train Accuracy: 0.8364676237106323\n",
      "Val Accuracy: 0.9003255367279053\n",
      "\n",
      "Starting epoch 3\n",
      "Train Loss: 0.3955634880065918\n",
      "Val Loss: 0.2588328324504919\n",
      "Train Accuracy: 0.8689138889312744\n",
      "Val Accuracy: 0.9247446656227112\n",
      "\n",
      "Starting epoch 4\n",
      "Train Loss: 0.34978620484471323\n",
      "Val Loss: 0.2692381703684516\n",
      "Train Accuracy: 0.8840528726577759\n",
      "Val Accuracy: 0.9193428754806519\n",
      "\n",
      "Starting epoch 5\n",
      "Train Loss: 0.314939639121294\n",
      "Val Loss: 0.24671645618393911\n",
      "Train Accuracy: 0.8962349891662598\n",
      "Val Accuracy: 0.9262245893478394\n",
      "\n",
      "Starting epoch 6\n",
      "Train Loss: 0.2885201209783554\n",
      "Val Loss: 0.23339659310260844\n",
      "Train Accuracy: 0.9045929908752441\n",
      "Val Accuracy: 0.9295545220375061\n",
      "\n",
      "Starting epoch 7\n",
      "Train Loss: 0.2682600486278534\n",
      "Val Loss: 0.2295958663273083\n",
      "Train Accuracy: 0.9114133715629578\n",
      "Val Accuracy: 0.9308124780654907\n",
      "\n",
      "Starting epoch 8\n",
      "Train Loss: 0.24779862113296985\n",
      "Val Loss: 0.18911079687658636\n",
      "Train Accuracy: 0.917405903339386\n",
      "Val Accuracy: 0.942948043346405\n",
      "\n",
      "Starting epoch 9\n",
      "Train Loss: 0.22935847971588375\n",
      "Val Loss: 0.17816029281639462\n",
      "Train Accuracy: 0.9233589768409729\n",
      "Val Accuracy: 0.9461299180984497\n",
      "\n",
      "Starting epoch 10\n",
      "Train Loss: 0.22005480125546456\n",
      "Val Loss: 0.18031882580114314\n",
      "Train Accuracy: 0.9261187314987183\n",
      "Val Accuracy: 0.9459078907966614\n",
      "\n",
      "Starting epoch 11\n",
      "Train Loss: 0.2093105934560299\n",
      "Val Loss: 0.17496304210037628\n",
      "Train Accuracy: 0.931677520275116\n",
      "Val Accuracy: 0.9465738534927368\n",
      "\n",
      "Starting epoch 12\n",
      "Train Loss: 0.20098287329077721\n",
      "Val Loss: 0.15198207585621035\n",
      "Train Accuracy: 0.9325448870658875\n",
      "Val Accuracy: 0.9534556269645691\n",
      "\n",
      "Starting epoch 13\n",
      "Train Loss: 0.19075270548462867\n",
      "Val Loss: 0.1778057713378617\n",
      "Train Accuracy: 0.9367238879203796\n",
      "Val Accuracy: 0.9430959820747375\n",
      "\n",
      "Starting epoch 14\n",
      "Train Loss: 0.1795785966143012\n",
      "Val Loss: 0.1545243039727211\n",
      "Train Accuracy: 0.940193235874176\n",
      "Val Accuracy: 0.9533076286315918\n",
      "\n",
      "Starting epoch 15\n",
      "Train Loss: 0.17724213503301145\n",
      "Val Loss: 0.14628916591995927\n",
      "Train Accuracy: 0.9412971138954163\n",
      "Val Accuracy: 0.9546396136283875\n",
      "\n",
      "Starting epoch 16\n",
      "Train Loss: 0.16803445190191268\n",
      "Val Loss: 0.15138222840801763\n",
      "Train Accuracy: 0.9439385533332825\n",
      "Val Accuracy: 0.9541215896606445\n",
      "\n",
      "Starting epoch 17\n",
      "Train Loss: 0.16044982187449933\n",
      "Val Loss: 0.14260345145214534\n",
      "Train Accuracy: 0.9478021264076233\n",
      "Val Accuracy: 0.9564895033836365\n",
      "\n",
      "Starting epoch 18\n",
      "Train Loss: 0.1576269370317459\n",
      "Val Loss: 0.14771177693232718\n",
      "Train Accuracy: 0.9485117793083191\n",
      "Val Accuracy: 0.9550835490226746\n",
      "\n",
      "Starting epoch 19\n",
      "Train Loss: 0.14904511701315643\n",
      "Val Loss: 0.12955391267424637\n",
      "Train Accuracy: 0.9495368003845215\n",
      "Val Accuracy: 0.9598193764686584\n",
      "\n",
      "Starting epoch 20\n",
      "Train Loss: 0.14461539678275584\n",
      "Val Loss: 0.14439667186239652\n",
      "Train Accuracy: 0.9517840147018433\n",
      "Val Accuracy: 0.9550835490226746\n",
      "\n",
      "Training process has finished.\n"
     ]
    }
   ],
   "source": [
    "epochs = 20\n",
    "train_loss_all_epoch = []\n",
    "train_accuracy_all_epoch = []\n",
    "val_loss_all_epoch = []\n",
    "val_accuracy_all_epoch = []\n",
    "loss_best_model = 1e9\n",
    "\n",
    "for epoch in range(epochs):\n",
    "    print(f'Starting epoch {epoch+1}')\n",
    "\n",
    "    train_loss_per_epoch, train_accuracy_per_epoch = train_one_epoch(cnn,loss_function,optimizer,train_data)\n",
    "\n",
    "    train_loss_all_epoch.append(train_loss_per_epoch)\n",
    "    train_accuracy_all_epoch.append(train_accuracy_per_epoch)\n",
    "\n",
    "    val_loss_per_epoch,val_accuracy_per_epoch = validation_one_epoch(cnn,loss_function,test_data)\n",
    "    \n",
    "    val_loss_all_epoch.append(val_loss_per_epoch)\n",
    "    val_accuracy_all_epoch.append(val_accuracy_per_epoch)\n",
    "\n",
    "    if val_loss_per_epoch < loss_best_model:\n",
    "        loss_best_model = val_loss_per_epoch\n",
    "        model_path = 'SavedModels/test_model'\n",
    "        torch.save(cnn.state_dict(),model_path)\n",
    "\n",
    "    print(f'Train Loss: {train_loss_per_epoch}')\n",
    "    print(f'Val Loss: {val_loss_per_epoch}')\n",
    "    print(f'Train Accuracy: {train_accuracy_per_epoch}')\n",
    "    print(f'Val Accuracy: {val_accuracy_per_epoch}')\n",
    "    print()\n",
    "\n",
    "print('Training process has finished.')"
   ]
  },
  {
   "cell_type": "code",
   "execution_count": 9,
   "metadata": {},
   "outputs": [
    {
     "data": {
      "image/png": "[encoded data removed]",
      "text/plain": [
       "<Figure size 640x480 with 1 Axes>"
      ]
     },
     "metadata": {},
     "output_type": "display_data"
    }
   ],
   "source": [
    "import matplotlib.pyplot as plt\n",
    "\n",
    "plt.plot(train_loss_all_epoch)\n",
    "plt.plot(val_loss_all_epoch)\n",
    "plt.legend(['Treino', 'Validação'])\n",
    "plt.xlabel('Épocas')\n",
    "\n",
    "plt.show()"
   ]
  },
  {
   "cell_type": "code",
   "execution_count": 10,
   "metadata": {},
   "outputs": [
    {
     "data": {
      "image/png": "[encoded data removed]",
      "text/plain": [
       "<Figure size 640x480 with 1 Axes>"
      ]
     },
     "metadata": {},
     "output_type": "display_data"
    }
   ],
   "source": [
    "import matplotlib.pyplot as plt\n",
    "\n",
    "plt.plot(train_accuracy_all_epoch)\n",
    "plt.plot(val_accuracy_all_epoch)\n",
    "plt.legend(['Treino', 'Validação'])\n",
    "plt.xlabel('Épocas')\n",
    "\n",
    "plt.show()"
   ]
  },
  {
   "cell_type": "code",
   "execution_count": 11,
   "metadata": {},
   "outputs": [
    {
     "name": "stdout",
     "output_type": "stream",
     "text": [
      "              precision    recall  f1-score   support\n",
      "\n",
      "         0.0    0.97842   0.96718   0.97277      9750\n",
      "         1.0    0.75746   0.74359   0.75046       546\n",
      "         2.0    0.89948   0.95166   0.92483      1448\n",
      "         3.0    0.60101   0.73457   0.66111       162\n",
      "         4.0    0.97764   0.97886   0.97825      1608\n",
      "\n",
      "    accuracy                        0.95508     13514\n",
      "   macro avg    0.84280   0.87517   0.85748     13514\n",
      "weighted avg    0.95642   0.95508   0.95557     13514\n",
      "\n"
     ]
    }
   ],
   "source": [
    "from sklearn.metrics import classification_report\n",
    "\n",
    "cnn.train(False)\n",
    "\n",
    "all_pred = torch.tensor([]).to(device)\n",
    "all_true = torch.tensor([]).to(device)\n",
    "\n",
    "for data in test_data:\n",
    "    x_test,y_test = data\n",
    "    x_test = x_test.to(device)\n",
    "    y_test = y_test.to(device)\n",
    "    y_pred = cnn(x_test)\n",
    "    y_pred = torch.Tensor.argmax(y_pred, dim=1)\n",
    "    all_pred = torch.cat((all_pred,y_pred))\n",
    "    all_true = torch.cat((all_true,y_test))\n",
    "\n",
    "all_true = all_true.to('cpu')\n",
    "all_pred = all_pred.to('cpu')\n",
    "print(classification_report(all_true,all_pred,zero_division=1,digits=5))"
   ]
  },
  {
   "cell_type": "code",
   "execution_count": 12,
   "metadata": {},
   "outputs": [
    {
     "data": {
      "text/plain": [
       "AlexNet(\n",
       "  (features): Sequential(\n",
       "    (0): Conv2d(3, 64, kernel_size=(11, 11), stride=(4, 4), padding=(2, 2))\n",
       "    (1): ReLU(inplace=True)\n",
       "    (2): MaxPool2d(kernel_size=3, stride=2, padding=0, dilation=1, ceil_mode=False)\n",
       "    (3): Conv2d(64, 192, kernel_size=(5, 5), stride=(1, 1), padding=(2, 2))\n",
       "    (4): ReLU(inplace=True)\n",
       "    (5): MaxPool2d(kernel_size=3, stride=2, padding=0, dilation=1, ceil_mode=False)\n",
       "    (6): Conv2d(192, 384, kernel_size=(3, 3), stride=(1, 1), padding=(1, 1))\n",
       "    (7): ReLU(inplace=True)\n",
       "    (8): Conv2d(384, 256, kernel_size=(3, 3), stride=(1, 1), padding=(1, 1))\n",
       "    (9): ReLU(inplace=True)\n",
       "    (10): Conv2d(256, 256, kernel_size=(3, 3), stride=(1, 1), padding=(1, 1))\n",
       "    (11): ReLU(inplace=True)\n",
       "    (12): MaxPool2d(kernel_size=3, stride=2, padding=0, dilation=1, ceil_mode=False)\n",
       "  )\n",
       "  (avgpool): AdaptiveAvgPool2d(output_size=(6, 6))\n",
       "  (classifier): Sequential(\n",
       "    (0): Dropout(p=0.5, inplace=False)\n",
       "    (1): Linear(in_features=9216, out_features=4096, bias=True)\n",
       "    (2): ReLU(inplace=True)\n",
       "    (3): Dropout(p=0.5, inplace=False)\n",
       "    (4): Linear(in_features=4096, out_features=4096, bias=True)\n",
       "    (5): ReLU(inplace=True)\n",
       "    (6): Linear(in_features=4096, out_features=1000, bias=True)\n",
       "  )\n",
       "  (fc): Linear(in_features=1000, out_features=5, bias=True)\n",
       ")"
      ]
     },
     "execution_count": 12,
     "metadata": {},
     "output_type": "execute_result"
    }
   ],
   "source": [
    "import torch\n",
    "import torchvision.models as models\n",
    "\n",
    "saved_model = models.alexnet()\n",
    "num_ftrs = saved_model.classifier[6].out_features\n",
    "saved_model.fc = nn.Linear(num_ftrs, 5)\n",
    "\n",
    "saved_model.load_state_dict(torch.load('SavedModels/test_model'))\n",
    "\n",
    "saved_model.to(device)"
   ]
  },
  {
   "cell_type": "code",
   "execution_count": 13,
   "metadata": {},
   "outputs": [
    {
     "name": "stdout",
     "output_type": "stream",
     "text": [
      "              precision    recall  f1-score   support\n",
      "\n",
      "         0.0    0.97308   0.97887   0.97597      9750\n",
      "         1.0    0.81663   0.70147   0.75468       546\n",
      "         2.0    0.90969   0.94613   0.92756      1448\n",
      "         3.0    0.75887   0.66049   0.70627       162\n",
      "         4.0    0.98553   0.97450   0.97999      1608\n",
      "\n",
      "    accuracy                        0.95982     13514\n",
      "   macro avg    0.88876   0.85229   0.86889     13514\n",
      "weighted avg    0.95888   0.95982   0.95909     13514\n",
      "\n"
     ]
    }
   ],
   "source": [
    "from sklearn.metrics import classification_report\n",
    "\n",
    "saved_model.train(False)\n",
    "\n",
    "all_pred = torch.tensor([]).to(device)\n",
    "all_true = torch.tensor([]).to(device)\n",
    "\n",
    "for data in test_data:\n",
    "    x_test,y_test = data\n",
    "    x_test = x_test.to(device)\n",
    "    y_test = y_test.to(device)\n",
    "    y_pred = saved_model(x_test)\n",
    "    y_pred = torch.Tensor.argmax(y_pred, dim=1)\n",
    "    all_pred = torch.cat((all_pred,y_pred))\n",
    "    all_true = torch.cat((all_true,y_test))\n",
    "\n",
    "all_true = all_true.to('cpu')\n",
    "all_pred = all_pred.to('cpu')\n",
    "print(classification_report(all_true,all_pred,zero_division=1,digits=5))"
   ]
  }
 ],
 "metadata": {
  "kernelspec": {
   "display_name": "Python 3",
   "language": "python",
   "name": "python3"
  },
  "language_info": {
   "codemirror_mode": {
    "name": "ipython",
    "version": 3
   },
   "file_extension": ".py",
   "mimetype": "text/x-python",
   "name": "python",
   "nbconvert_exporter": "python",
   "pygments_lexer": "ipython3",
   "version": "3.10.8"
  },
  "orig_nbformat": 4,
  "vscode": {
   "interpreter": {
    "hash": "c7eb35bf8493b15a7794fd0a89c627863cb8195addfe4e8a6a5f6b5be170870a"
   }
  }
 },
 "nbformat": 4,
 "nbformat_minor": 2
}
