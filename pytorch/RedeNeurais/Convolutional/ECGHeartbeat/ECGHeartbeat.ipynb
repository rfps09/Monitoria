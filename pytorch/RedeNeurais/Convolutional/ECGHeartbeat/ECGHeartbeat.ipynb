{
 "cells": [
  {
   "cell_type": "code",
   "execution_count": 1,
   "metadata": {},
   "outputs": [
    {
     "name": "stderr",
     "output_type": "stream",
     "text": [
      "c:\\Users\\BraboDeBH\\AppData\\Local\\Programs\\Python\\Python310\\lib\\site-packages\\tqdm\\auto.py:22: TqdmWarning: IProgress not found. Please update jupyter and ipywidgets. See https://ipywidgets.readthedocs.io/en/stable/user_install.html\n",
      "  from .autonotebook import tqdm as notebook_tqdm\n"
     ]
    },
    {
     "name": "stdout",
     "output_type": "stream",
     "text": [
      "cuda:0\n"
     ]
    }
   ],
   "source": [
    "import torch\n",
    "if torch.cuda.is_available():\n",
    "    dev = \"cuda:0\"\n",
    "else:\n",
    "    dev = \"cpu\"\n",
    "device = torch.device(dev)\n",
    "print(dev)"
   ]
  },
  {
   "cell_type": "code",
   "execution_count": 2,
   "metadata": {},
   "outputs": [
    {
     "data": {
      "text/plain": [
       "87554"
      ]
     },
     "execution_count": 2,
     "metadata": {},
     "output_type": "execute_result"
    }
   ],
   "source": [
    "import torch\n",
    "import torchvision\n",
    "from torchvision import transforms\n",
    "from sklearn.model_selection import train_test_split\n",
    "\n",
    "transform = transforms.Compose(\n",
    "    [\n",
    "        transforms.Resize(size=(227, 227)),\n",
    "        transforms.ToTensor(),\n",
    "        transforms.Normalize(mean=[0.6900, 0.4713, 0.5236], std=[0.3172, 0.4550, 0.4746]),\n",
    "        # transforms.Normalize(mean=[0.5685, 0.2570, 0.4582], std=[0.3371, 0.3743, 0.4563]),\n",
    "    ]\n",
    ")\n",
    "\n",
    "train_data_path = 'DataSets/mitbih_fusion/train/'\n",
    "test_data_path = 'DataSets/mitbih_fusion/test/'\n",
    "\n",
    "dir_train = torchvision.datasets.ImageFolder(train_data_path,transform=transform)\n",
    "train_data = torch.utils.data.DataLoader(dir_train,batch_size=128,shuffle=True,num_workers=8)\n",
    "\n",
    "dir_test = torchvision.datasets.ImageFolder(test_data_path,transform=transform)\n",
    "test_data = torch.utils.data.DataLoader(dir_test,batch_size=32,shuffle=True,num_workers=8)\n",
    "\n",
    "len(train_data.dataset)"
   ]
  },
  {
   "cell_type": "code",
   "execution_count": 3,
   "metadata": {},
   "outputs": [],
   "source": [
    "# imgs = torch.stack([i for img,_ in test_data for i in img], dim=3)\n",
    "# media = imgs.view(3,-1).mean(dim=1)\n",
    "# desvio = imgs.view(3,-1).std(dim=1)\n",
    "# print(media,desvio)"
   ]
  },
  {
   "cell_type": "code",
   "execution_count": 4,
   "metadata": {},
   "outputs": [],
   "source": [
    "def train_one_epoch(NeuralNet,Loss,Optimizer,data_treino):\n",
    "    NeuralNet.train(True)\n",
    "    current_loss = 0.0\n",
    "    current_accuracy = 0.0\n",
    "    total_samples = 0\n",
    "\n",
    "    for i,data in enumerate(data_treino):\n",
    "        x,y = data\n",
    "        x = x.to(device)\n",
    "        y = y.to(device)\n",
    "        Optimizer.zero_grad()\n",
    "        output = NeuralNet(x)\n",
    "        loss = Loss(output,y)\n",
    "        current_loss += loss.item()\n",
    "        loss.backward()\n",
    "        Optimizer.step()\n",
    "        \n",
    "        output = output.argmax(dim=1)\n",
    "        batch_accuracy = torch.eq(output,y)\n",
    "        batch_accuracy = batch_accuracy.sum()\n",
    "        current_accuracy += batch_accuracy\n",
    "        total_samples += len(x)\n",
    "\n",
    "    return current_loss/(i+1), (current_accuracy/total_samples).to('cpu')"
   ]
  },
  {
   "cell_type": "code",
   "execution_count": 5,
   "metadata": {},
   "outputs": [],
   "source": [
    "def validation_one_epoch(NeuralNet,Loss,val_data):\n",
    "    NeuralNet.train(False)\n",
    "    current_loss = 0.0\n",
    "    current_accuracy = 0.0\n",
    "    total_samples = len(val_data.dataset)\n",
    "    \n",
    "    for i,data in enumerate(val_data):\n",
    "        x,y = data\n",
    "        x = x.to(device)\n",
    "        y = y.to(device)\n",
    "        output = NeuralNet(x)\n",
    "        loss = Loss(output,y)\n",
    "        current_loss += loss.item()\n",
    "\n",
    "        output = output.argmax(dim=1)\n",
    "        batch_accuracy = torch.eq(output,y)\n",
    "        batch_accuracy = batch_accuracy.sum()\n",
    "        current_accuracy += batch_accuracy\n",
    "    return current_loss/(i+1), (current_accuracy/total_samples).to('cpu')"
   ]
  },
  {
   "cell_type": "code",
   "execution_count": 6,
   "metadata": {},
   "outputs": [
    {
     "data": {
      "text/plain": [
       "AlexNet(\n",
       "  (features): Sequential(\n",
       "    (0): Conv2d(3, 64, kernel_size=(11, 11), stride=(4, 4), padding=(2, 2))\n",
       "    (1): ReLU(inplace=True)\n",
       "    (2): MaxPool2d(kernel_size=3, stride=2, padding=0, dilation=1, ceil_mode=False)\n",
       "    (3): Conv2d(64, 192, kernel_size=(5, 5), stride=(1, 1), padding=(2, 2))\n",
       "    (4): ReLU(inplace=True)\n",
       "    (5): MaxPool2d(kernel_size=3, stride=2, padding=0, dilation=1, ceil_mode=False)\n",
       "    (6): Conv2d(192, 384, kernel_size=(3, 3), stride=(1, 1), padding=(1, 1))\n",
       "    (7): ReLU(inplace=True)\n",
       "    (8): Conv2d(384, 256, kernel_size=(3, 3), stride=(1, 1), padding=(1, 1))\n",
       "    (9): ReLU(inplace=True)\n",
       "    (10): Conv2d(256, 256, kernel_size=(3, 3), stride=(1, 1), padding=(1, 1))\n",
       "    (11): ReLU(inplace=True)\n",
       "    (12): MaxPool2d(kernel_size=3, stride=2, padding=0, dilation=1, ceil_mode=False)\n",
       "  )\n",
       "  (avgpool): AdaptiveAvgPool2d(output_size=(6, 6))\n",
       "  (classifier): Sequential(\n",
       "    (0): Dropout(p=0.5, inplace=False)\n",
       "    (1): Linear(in_features=9216, out_features=4096, bias=True)\n",
       "    (2): ReLU(inplace=True)\n",
       "    (3): Dropout(p=0.5, inplace=False)\n",
       "    (4): Linear(in_features=4096, out_features=4096, bias=True)\n",
       "    (5): ReLU(inplace=True)\n",
       "    (6): Linear(in_features=4096, out_features=1000, bias=True)\n",
       "    (7): Linear(in_features=1000, out_features=5, bias=True)\n",
       "  )\n",
       ")"
      ]
     },
     "execution_count": 6,
     "metadata": {},
     "output_type": "execute_result"
    }
   ],
   "source": [
    "from torch import nn\n",
    "import torchvision.models as models\n",
    "\n",
    "cnn = models.alexnet(weights=models.AlexNet_Weights.DEFAULT)\n",
    "for i,param in enumerate(cnn.parameters()):\n",
    "    if i >= 5: break\n",
    "    param.requires_grad=False\n",
    "num_ftrs = cnn.classifier[6].out_features\n",
    "cnn.classifier.add_module(\"7\",nn.Linear(num_ftrs, 5))\n",
    "cnn.to(device)"
   ]
  },
  {
   "cell_type": "code",
   "execution_count": 7,
   "metadata": {},
   "outputs": [],
   "source": [
    "loss_function = nn.CrossEntropyLoss()\n",
    "optimizer = torch.optim.SGD(cnn.parameters(),lr=1e-3,momentum=0.9)"
   ]
  },
  {
   "cell_type": "code",
   "execution_count": 8,
   "metadata": {},
   "outputs": [
    {
     "name": "stdout",
     "output_type": "stream",
     "text": [
      "Starting epoch 1\n",
      "Train Loss: 0.3062179810958948\n",
      "Val Loss: 0.19109436204099525\n",
      "Train Accuracy: 0.9213970899581909\n",
      "Val Accuracy: 0.948565661907196\n",
      "\n",
      "Starting epoch 2\n",
      "Train Loss: 0.18076707469843273\n",
      "Val Loss: 0.14528729142145302\n",
      "Train Accuracy: 0.9504534602165222\n",
      "Val Accuracy: 0.9595742225646973\n",
      "\n",
      "Starting epoch 3\n",
      "Train Loss: 0.14640295603142603\n",
      "Val Loss: 0.1323291547256556\n",
      "Train Accuracy: 0.9601388573646545\n",
      "Val Accuracy: 0.9655581712722778\n",
      "\n",
      "Starting epoch 4\n",
      "Train Loss: 0.12981994045748763\n",
      "Val Loss: 0.1234531675193486\n",
      "Train Accuracy: 0.9647988677024841\n",
      "Val Accuracy: 0.966517448425293\n",
      "\n",
      "Starting epoch 5\n",
      "Train Loss: 0.11382227667138307\n",
      "Val Loss: 0.10899641981729082\n",
      "Train Accuracy: 0.9680083394050598\n",
      "Val Accuracy: 0.9707198739051819\n",
      "\n",
      "Starting epoch 6\n",
      "Train Loss: 0.1020675699932326\n",
      "Val Loss: 0.10783930603469158\n",
      "Train Accuracy: 0.9716060757637024\n",
      "Val Accuracy: 0.9709482789039612\n",
      "\n",
      "Starting epoch 7\n",
      "Train Loss: 0.09403907266737771\n",
      "Val Loss: 0.09797930389669908\n",
      "Train Accuracy: 0.9734906554222107\n",
      "Val Accuracy: 0.972775399684906\n",
      "\n",
      "Starting epoch 8\n",
      "Train Loss: 0.08699403563127717\n",
      "Val Loss: 0.09445604139592254\n",
      "Train Accuracy: 0.9752267003059387\n",
      "Val Accuracy: 0.9738717079162598\n",
      "\n",
      "Starting epoch 9\n",
      "Train Loss: 0.08092682759692199\n",
      "Val Loss: 0.09242514108212488\n",
      "Train Accuracy: 0.9768485426902771\n",
      "Val Accuracy: 0.9743741750717163\n",
      "\n",
      "Starting epoch 10\n",
      "Train Loss: 0.07572430534097944\n",
      "Val Loss: 0.08903699856970364\n",
      "Train Accuracy: 0.9779907464981079\n",
      "Val Accuracy: 0.975516140460968\n",
      "\n",
      "Starting epoch 11\n",
      "Train Loss: 0.07144445298820816\n",
      "Val Loss: 0.09143420595023101\n",
      "Train Accuracy: 0.9787445664405823\n",
      "Val Accuracy: 0.9752877354621887\n",
      "\n",
      "Starting epoch 12\n",
      "Train Loss: 0.06642760972417619\n",
      "Val Loss: 0.09029204937150144\n",
      "Train Accuracy: 0.9806861877441406\n",
      "Val Accuracy: 0.9757445454597473\n",
      "\n",
      "Starting epoch 13\n",
      "Train Loss: 0.0638757470097855\n",
      "Val Loss: 0.08601416316755238\n",
      "Train Accuracy: 0.9806062579154968\n",
      "Val Accuracy: 0.9770235419273376\n",
      "\n",
      "Starting epoch 14\n",
      "Train Loss: 0.06020407737868993\n",
      "Val Loss: 0.08388312812741629\n",
      "Train Accuracy: 0.981462836265564\n",
      "Val Accuracy: 0.9771605730056763\n",
      "\n",
      "Starting epoch 15\n",
      "Train Loss: 0.05802429816379708\n",
      "Val Loss: 0.08894234647231693\n",
      "Train Accuracy: 0.9826392531394958\n",
      "Val Accuracy: 0.9751507043838501\n",
      "\n",
      "Starting epoch 16\n",
      "Train Loss: 0.060980044210152906\n",
      "Val Loss: 0.08744435816710937\n",
      "Train Accuracy: 0.9808803796768188\n",
      "Val Accuracy: 0.9778000712394714\n",
      "\n",
      "Starting epoch 17\n",
      "Train Loss: 0.051473146478601316\n",
      "Val Loss: 0.09207944940825769\n",
      "Train Accuracy: 0.9843525290489197\n",
      "Val Accuracy: 0.9764754176139832\n",
      "\n",
      "Starting epoch 18\n",
      "Train Loss: 0.047373470054925794\n",
      "Val Loss: 0.08385975763497426\n",
      "Train Accuracy: 0.9852776527404785\n",
      "Val Accuracy: 0.9773433208465576\n",
      "\n",
      "Starting epoch 19\n",
      "Train Loss: 0.04390707093783413\n",
      "Val Loss: 0.088758273121589\n",
      "Train Accuracy: 0.9860543012619019\n",
      "Val Accuracy: 0.9779828190803528\n",
      "\n",
      "Starting epoch 20\n",
      "Train Loss: 0.04138981537811839\n",
      "Val Loss: 0.08522284961285165\n",
      "Train Accuracy: 0.9869109392166138\n",
      "Val Accuracy: 0.9783939123153687\n",
      "\n",
      "Training process has finished.\n"
     ]
    }
   ],
   "source": [
    "epochs = 20\n",
    "train_loss_all_epoch = []\n",
    "train_accuracy_all_epoch = []\n",
    "val_loss_all_epoch = []\n",
    "val_accuracy_all_epoch = []\n",
    "loss_best_model = 1e9\n",
    "\n",
    "for epoch in range(epochs):\n",
    "    print(f'Starting epoch {epoch+1}')\n",
    "\n",
    "    train_loss_per_epoch, train_accuracy_per_epoch = train_one_epoch(cnn,loss_function,optimizer,train_data)\n",
    "\n",
    "    train_loss_all_epoch.append(train_loss_per_epoch)\n",
    "    train_accuracy_all_epoch.append(train_accuracy_per_epoch)\n",
    "\n",
    "    val_loss_per_epoch,val_accuracy_per_epoch = validation_one_epoch(cnn,loss_function,test_data)\n",
    "    \n",
    "    val_loss_all_epoch.append(val_loss_per_epoch)\n",
    "    val_accuracy_all_epoch.append(val_accuracy_per_epoch)\n",
    "\n",
    "    if val_loss_per_epoch < loss_best_model:\n",
    "        loss_best_model = val_loss_per_epoch\n",
    "        model_path = 'SavedModels/test_model'\n",
    "        torch.save(cnn.state_dict(),model_path)\n",
    "\n",
    "    print(f'Train Loss: {train_loss_per_epoch}')\n",
    "    print(f'Val Loss: {val_loss_per_epoch}')\n",
    "    print(f'Train Accuracy: {train_accuracy_per_epoch}')\n",
    "    print(f'Val Accuracy: {val_accuracy_per_epoch}')\n",
    "    print()\n",
    "\n",
    "print('Training process has finished.')"
   ]
  },
  {
   "cell_type": "code",
   "execution_count": 9,
   "metadata": {},
   "outputs": [
    {
     "data": {
      "image/png": "[encoded data removed]",
      "text/plain": [
       "<Figure size 640x480 with 1 Axes>"
      ]
     },
     "metadata": {},
     "output_type": "display_data"
    }
   ],
   "source": [
    "import matplotlib.pyplot as plt\n",
    "\n",
    "plt.plot(train_loss_all_epoch)\n",
    "plt.plot(val_loss_all_epoch)\n",
    "plt.legend(['Treino', 'Validação'])\n",
    "plt.xlabel('Épocas')\n",
    "\n",
    "plt.show()"
   ]
  },
  {
   "cell_type": "code",
   "execution_count": 10,
   "metadata": {},
   "outputs": [
    {
     "data": {
      "image/png": "[encoded data removed]",
      "text/plain": [
       "<Figure size 640x480 with 1 Axes>"
      ]
     },
     "metadata": {},
     "output_type": "display_data"
    }
   ],
   "source": [
    "import matplotlib.pyplot as plt\n",
    "\n",
    "plt.plot(train_accuracy_all_epoch)\n",
    "plt.plot(val_accuracy_all_epoch)\n",
    "plt.legend(['Treino', 'Validação'])\n",
    "plt.xlabel('Épocas')\n",
    "\n",
    "plt.show()"
   ]
  },
  {
   "cell_type": "code",
   "execution_count": 11,
   "metadata": {},
   "outputs": [
    {
     "name": "stdout",
     "output_type": "stream",
     "text": [
      "              precision    recall  f1-score   support\n",
      "\n",
      "         0.0    0.98463   0.99332   0.98895     18118\n",
      "         1.0    0.88276   0.69065   0.77497       556\n",
      "         2.0    0.94045   0.94890   0.94465      1448\n",
      "         3.0    0.79412   0.66667   0.72483       162\n",
      "         4.0    0.98357   0.96766   0.97555      1608\n",
      "\n",
      "    accuracy                        0.97839     21892\n",
      "   macro avg    0.91710   0.85344   0.88179     21892\n",
      "weighted avg    0.97763   0.97839   0.97765     21892\n",
      "\n"
     ]
    }
   ],
   "source": [
    "from sklearn.metrics import classification_report\n",
    "\n",
    "cnn.train(False)\n",
    "\n",
    "all_pred = torch.tensor([]).to(device)\n",
    "all_true = torch.tensor([]).to(device)\n",
    "\n",
    "for data in test_data:\n",
    "    x_test,y_test = data\n",
    "    x_test = x_test.to(device)\n",
    "    y_test = y_test.to(device)\n",
    "    y_pred = cnn(x_test)\n",
    "    y_pred = torch.Tensor.argmax(y_pred, dim=1)\n",
    "    all_pred = torch.cat((all_pred,y_pred))\n",
    "    all_true = torch.cat((all_true,y_test))\n",
    "\n",
    "all_true = all_true.to('cpu')\n",
    "all_pred = all_pred.to('cpu')\n",
    "print(classification_report(all_true,all_pred,zero_division=1,digits=5))"
   ]
  },
  {
   "cell_type": "code",
   "execution_count": 13,
   "metadata": {},
   "outputs": [
    {
     "data": {
      "text/plain": [
       "AlexNet(\n",
       "  (features): Sequential(\n",
       "    (0): Conv2d(3, 64, kernel_size=(11, 11), stride=(4, 4), padding=(2, 2))\n",
       "    (1): ReLU(inplace=True)\n",
       "    (2): MaxPool2d(kernel_size=3, stride=2, padding=0, dilation=1, ceil_mode=False)\n",
       "    (3): Conv2d(64, 192, kernel_size=(5, 5), stride=(1, 1), padding=(2, 2))\n",
       "    (4): ReLU(inplace=True)\n",
       "    (5): MaxPool2d(kernel_size=3, stride=2, padding=0, dilation=1, ceil_mode=False)\n",
       "    (6): Conv2d(192, 384, kernel_size=(3, 3), stride=(1, 1), padding=(1, 1))\n",
       "    (7): ReLU(inplace=True)\n",
       "    (8): Conv2d(384, 256, kernel_size=(3, 3), stride=(1, 1), padding=(1, 1))\n",
       "    (9): ReLU(inplace=True)\n",
       "    (10): Conv2d(256, 256, kernel_size=(3, 3), stride=(1, 1), padding=(1, 1))\n",
       "    (11): ReLU(inplace=True)\n",
       "    (12): MaxPool2d(kernel_size=3, stride=2, padding=0, dilation=1, ceil_mode=False)\n",
       "  )\n",
       "  (avgpool): AdaptiveAvgPool2d(output_size=(6, 6))\n",
       "  (classifier): Sequential(\n",
       "    (0): Dropout(p=0.5, inplace=False)\n",
       "    (1): Linear(in_features=9216, out_features=4096, bias=True)\n",
       "    (2): ReLU(inplace=True)\n",
       "    (3): Dropout(p=0.5, inplace=False)\n",
       "    (4): Linear(in_features=4096, out_features=4096, bias=True)\n",
       "    (5): ReLU(inplace=True)\n",
       "    (6): Linear(in_features=4096, out_features=1000, bias=True)\n",
       "    (7): Linear(in_features=1000, out_features=5, bias=True)\n",
       "  )\n",
       ")"
      ]
     },
     "execution_count": 13,
     "metadata": {},
     "output_type": "execute_result"
    }
   ],
   "source": [
    "import torch\n",
    "import torchvision.models as models\n",
    "\n",
    "saved_model = models.alexnet()\n",
    "num_ftrs = saved_model.classifier[6].out_features\n",
    "saved_model.classifier.add_module(\"7\",nn.Linear(num_ftrs, 5))\n",
    "\n",
    "saved_model.load_state_dict(torch.load('SavedModels/test_model'))\n",
    "\n",
    "saved_model.to(device)"
   ]
  },
  {
   "cell_type": "code",
   "execution_count": 14,
   "metadata": {},
   "outputs": [
    {
     "name": "stdout",
     "output_type": "stream",
     "text": [
      "              precision    recall  f1-score   support\n",
      "\n",
      "         0.0    0.98371   0.99338   0.98852     18118\n",
      "         1.0    0.94211   0.64388   0.76496       556\n",
      "         2.0    0.92891   0.94751   0.93812      1448\n",
      "         3.0    0.71895   0.67901   0.69841       162\n",
      "         4.0    0.98235   0.96891   0.97558      1608\n",
      "\n",
      "    accuracy                        0.97734     21892\n",
      "   macro avg    0.91121   0.84654   0.87312     21892\n",
      "weighted avg    0.97697   0.97734   0.97641     21892\n",
      "\n"
     ]
    }
   ],
   "source": [
    "from sklearn.metrics import classification_report\n",
    "\n",
    "saved_model.train(False)\n",
    "\n",
    "all_pred = torch.tensor([]).to(device)\n",
    "all_true = torch.tensor([]).to(device)\n",
    "\n",
    "for data in test_data:\n",
    "    x_test,y_test = data\n",
    "    x_test = x_test.to(device)\n",
    "    y_test = y_test.to(device)\n",
    "    y_pred = saved_model(x_test)\n",
    "    y_pred = torch.Tensor.argmax(y_pred, dim=1)\n",
    "    all_pred = torch.cat((all_pred,y_pred))\n",
    "    all_true = torch.cat((all_true,y_test))\n",
    "\n",
    "all_true = all_true.to('cpu')\n",
    "all_pred = all_pred.to('cpu')\n",
    "print(classification_report(all_true,all_pred,zero_division=1,digits=5))"
   ]
  }
 ],
 "metadata": {
  "kernelspec": {
   "display_name": "Python 3",
   "language": "python",
   "name": "python3"
  },
  "language_info": {
   "codemirror_mode": {
    "name": "ipython",
    "version": 3
   },
   "file_extension": ".py",
   "mimetype": "text/x-python",
   "name": "python",
   "nbconvert_exporter": "python",
   "pygments_lexer": "ipython3",
   "version": "3.10.8"
  },
  "orig_nbformat": 4,
  "vscode": {
   "interpreter": {
    "hash": "c7eb35bf8493b15a7794fd0a89c627863cb8195addfe4e8a6a5f6b5be170870a"
   }
  }
 },
 "nbformat": 4,
 "nbformat_minor": 2
}
