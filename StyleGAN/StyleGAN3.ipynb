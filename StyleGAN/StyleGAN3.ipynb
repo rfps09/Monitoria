{
  "nbformat": 4,
  "nbformat_minor": 0,
  "metadata": {
    "colab": {
      "provenance": [],
      "mount_file_id": "1hYm8b-qEdeAu1Rl6-NxGiCEmnCO4gLu1",
      "authorship_tag": "ABX9TyOfFypg9bHTMndEDMipJv27",
      "include_colab_link": true
    },
    "kernelspec": {
      "name": "python3",
      "display_name": "Python 3"
    },
    "language_info": {
      "name": "python"
    },
    "accelerator": "GPU",
    "gpuClass": "standard"
  },
  "cells": [
    {
      "cell_type": "markdown",
      "metadata": {
        "id": "view-in-github",
        "colab_type": "text"
      },
      "source": [
        "<a href=\"https://colab.research.google.com/github/rfps09/Monitoria/blob/main/StyleGAN/StyleGAN3.ipynb\" target=\"_parent\"><img src=\"https://colab.research.google.com/assets/colab-badge.svg\" alt=\"Open In Colab\"/></a>"
      ]
    },
    {
      "cell_type": "code",
      "execution_count": null,
      "metadata": {
        "id": "TWgHVJEI0VhM"
      },
      "outputs": [],
      "source": [
        "!pip install einops ninja gdown"
      ]
    },
    {
      "cell_type": "code",
      "source": [
        "################################################################################\n",
        "# INSTALL CONDA ON GOOGLE COLAB\n",
        "################################################################################\n",
        "! wget https://repo.anaconda.com/miniconda/Miniconda3-py37_4.8.2-Linux-x86_64.sh\n",
        "! chmod +x Miniconda3-py37_4.8.2-Linux-x86_64.sh\n",
        "! bash ./Miniconda3-py37_4.8.2-Linux-x86_64.sh -b -f -p /usr/local\n",
        "import sys\n",
        "sys.path.append('/usr/local/lib/python3.7/site-packages/')"
      ],
      "metadata": {
        "id": "v_grKYQN0iIK"
      },
      "execution_count": null,
      "outputs": []
    },
    {
      "cell_type": "code",
      "source": [
        "import os\n",
        "if not os.path.isdir('drive/MyDrive/stylegan3/'):\n",
        "    !git clone https://github.com/bvshyam/stylegan3.git /content/drive/MyDrive/stylegan3/\n",
        "    print('clonado')\n",
        "else:\n",
        "    print('Já baixado')"
      ],
      "metadata": {
        "id": "XAaguBV60lVm"
      },
      "execution_count": null,
      "outputs": []
    },
    {
      "cell_type": "code",
      "source": [
        "!conda env create -f drive/MyDrive/stylegan3/environment.yml"
      ],
      "metadata": {
        "id": "ikQUMWNC0kbB"
      },
      "execution_count": null,
      "outputs": []
    },
    {
      "cell_type": "code",
      "source": [
        "!source activate stylegan3 && python drive/MyDrive/stylegan3/dataset_tool.py \\\n",
        "--source=drive/MyDrive/F.zip \\\n",
        "--dest=drive/MyDrive/stylegan3/datasets/F-256x256.zip \\\n",
        "--resolution='256x256'"
      ],
      "metadata": {
        "id": "Qtz4vLF20nzO"
      },
      "execution_count": null,
      "outputs": []
    },
    {
      "cell_type": "code",
      "source": [
        "!source activate stylegan3 && pip install psutil"
      ],
      "metadata": {
        "id": "uS77NnGi0o6Y"
      },
      "execution_count": null,
      "outputs": []
    },
    {
      "cell_type": "code",
      "source": [
        "!source activate stylegan3 && python drive/MyDrive/stylegan3/train.py \\\n",
        "--data=drive/MyDrive/stylegan3/datasets/F-256x256.zip \\\n",
        "--outdir=drive/MyDrive/stylegan3/training-runs \\\n",
        "--cfg=stylegan3-t \\\n",
        "--gamma=2 \\\n",
        "--aug=noaug \\\n",
        "--metrics=none \\\n",
        "--gpus=1 \\\n",
        "--batch=4 \\\n",
        "--batch-gpu=4 \\\n",
        "--kimg=5 \\\n",
        "--tick=1 \\\n",
        "--snap=10 "
      ],
      "metadata": {
        "id": "kWV60ORk0p04"
      },
      "execution_count": null,
      "outputs": []
    }
  ]
}