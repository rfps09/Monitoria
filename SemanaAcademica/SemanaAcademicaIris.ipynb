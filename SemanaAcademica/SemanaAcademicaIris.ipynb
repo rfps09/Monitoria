{
  "cells": [
    {
      "cell_type": "markdown",
      "metadata": {
        "colab_type": "text",
        "id": "view-in-github"
      },
      "source": [
        "<a href=\"https://colab.research.google.com/github/rfps09/Monitoria/blob/main/SemanaAcademica/SemanaAcademicaIris.ipynb\" target=\"_parent\"><img src=\"https://colab.research.google.com/assets/colab-badge.svg\" alt=\"Open In Colab\"/></a>"
      ]
    },
    {
      "cell_type": "markdown",
      "metadata": {
        "id": "Lmr0EYmTdTQa"
      },
      "source": [
        "Rede neural para classificação de iris"
      ]
    },
    {
      "cell_type": "markdown",
      "metadata": {
        "id": "0PvNhR8eeDTs"
      },
      "source": [
        "Carregando e separando os dados, em 80% para treino e 20% para teste, 10% dos 80% vão para validação"
      ]
    },
    {
      "cell_type": "code",
      "execution_count": 3,
      "metadata": {
        "id": "IhShcioTdNNL"
      },
      "outputs": [],
      "source": [
        "import numpy as np\n",
        "from sklearn.model_selection import train_test_split\n",
        "from tensorflow.keras.utils import to_categorical\n",
        "\n",
        "data = np.genfromtxt('iris.data', delimiter=',')\n",
        "data = np.delete(data,-1,axis=1)\n",
        "classe = np.genfromtxt('iris.data', delimiter=',', dtype=str,usecols=-1)\n",
        "classe = np.unique(classe,return_inverse=1)[1]\n",
        "\n",
        "data_treino, data_teste, classe_treino, classe_teste = train_test_split(data,classe,test_size=0.2, random_state=123)\n",
        "\n",
        "classe_treino_onehot = to_categorical(classe_treino)"
      ]
    },
    {
      "cell_type": "markdown",
      "metadata": {
        "id": "29QdyRFYfXHm"
      },
      "source": [
        "Criando a rede neural"
      ]
    },
    {
      "cell_type": "code",
      "execution_count": 18,
      "metadata": {
        "colab": {
          "base_uri": "https://localhost:8080/"
        },
        "id": "K6j-KUuUfbL3",
        "outputId": "8f63c897-b386-4ecf-ba5b-52262e90cd86"
      },
      "outputs": [
        {
          "name": "stdout",
          "output_type": "stream",
          "text": [
            "Epoch 1/200\n",
            "4/4 [==============================] - 1s 79ms/step - loss: 1.3603 - categorical_accuracy: 0.0093 - val_loss: 1.2558 - val_categorical_accuracy: 0.0833\n",
            "Epoch 2/200\n",
            "4/4 [==============================] - 0s 11ms/step - loss: 1.3141 - categorical_accuracy: 0.0185 - val_loss: 1.2246 - val_categorical_accuracy: 0.0833\n",
            "Epoch 3/200\n",
            "4/4 [==============================] - 0s 12ms/step - loss: 1.2706 - categorical_accuracy: 0.0185 - val_loss: 1.1976 - val_categorical_accuracy: 0.0833\n",
            "Epoch 4/200\n",
            "4/4 [==============================] - 0s 12ms/step - loss: 1.2269 - categorical_accuracy: 0.0370 - val_loss: 1.1704 - val_categorical_accuracy: 0.1667\n",
            "Epoch 5/200\n",
            "4/4 [==============================] - 0s 14ms/step - loss: 1.1868 - categorical_accuracy: 0.1204 - val_loss: 1.1457 - val_categorical_accuracy: 0.1667\n",
            "Epoch 6/200\n",
            "4/4 [==============================] - 0s 15ms/step - loss: 1.1483 - categorical_accuracy: 0.2130 - val_loss: 1.1211 - val_categorical_accuracy: 0.2500\n",
            "Epoch 7/200\n",
            "4/4 [==============================] - 0s 13ms/step - loss: 1.1103 - categorical_accuracy: 0.3611 - val_loss: 1.0958 - val_categorical_accuracy: 0.4167\n",
            "Epoch 8/200\n",
            "4/4 [==============================] - 0s 13ms/step - loss: 1.0761 - categorical_accuracy: 0.3611 - val_loss: 1.0714 - val_categorical_accuracy: 0.4167\n",
            "Epoch 9/200\n",
            "4/4 [==============================] - 0s 11ms/step - loss: 1.0419 - categorical_accuracy: 0.3611 - val_loss: 1.0472 - val_categorical_accuracy: 0.4167\n",
            "Epoch 10/200\n",
            "4/4 [==============================] - 0s 11ms/step - loss: 1.0104 - categorical_accuracy: 0.3611 - val_loss: 1.0233 - val_categorical_accuracy: 0.4167\n",
            "Epoch 11/200\n",
            "4/4 [==============================] - 0s 12ms/step - loss: 0.9798 - categorical_accuracy: 0.3611 - val_loss: 1.0009 - val_categorical_accuracy: 0.4167\n",
            "Epoch 12/200\n",
            "4/4 [==============================] - 0s 12ms/step - loss: 0.9500 - categorical_accuracy: 0.3981 - val_loss: 0.9793 - val_categorical_accuracy: 0.5000\n",
            "Epoch 13/200\n",
            "4/4 [==============================] - 0s 12ms/step - loss: 0.9218 - categorical_accuracy: 0.7222 - val_loss: 0.9579 - val_categorical_accuracy: 0.6667\n",
            "Epoch 14/200\n",
            "4/4 [==============================] - 0s 11ms/step - loss: 0.8947 - categorical_accuracy: 0.7593 - val_loss: 0.9368 - val_categorical_accuracy: 0.8333\n",
            "Epoch 15/200\n",
            "4/4 [==============================] - 0s 10ms/step - loss: 0.8678 - categorical_accuracy: 0.7870 - val_loss: 0.9151 - val_categorical_accuracy: 0.8333\n",
            "Epoch 16/200\n",
            "4/4 [==============================] - 0s 12ms/step - loss: 0.8425 - categorical_accuracy: 0.8519 - val_loss: 0.8932 - val_categorical_accuracy: 0.8333\n",
            "Epoch 17/200\n",
            "4/4 [==============================] - 0s 12ms/step - loss: 0.8175 - categorical_accuracy: 0.8889 - val_loss: 0.8724 - val_categorical_accuracy: 0.8333\n",
            "Epoch 18/200\n",
            "4/4 [==============================] - 0s 16ms/step - loss: 0.7945 - categorical_accuracy: 0.9167 - val_loss: 0.8530 - val_categorical_accuracy: 0.7500\n",
            "Epoch 19/200\n",
            "4/4 [==============================] - 0s 12ms/step - loss: 0.7718 - categorical_accuracy: 0.9630 - val_loss: 0.8361 - val_categorical_accuracy: 0.7500\n",
            "Epoch 20/200\n",
            "4/4 [==============================] - 0s 11ms/step - loss: 0.7511 - categorical_accuracy: 0.9630 - val_loss: 0.8186 - val_categorical_accuracy: 0.7500\n",
            "Epoch 21/200\n",
            "4/4 [==============================] - 0s 14ms/step - loss: 0.7319 - categorical_accuracy: 0.9722 - val_loss: 0.8038 - val_categorical_accuracy: 0.9167\n",
            "Epoch 22/200\n",
            "4/4 [==============================] - 0s 12ms/step - loss: 0.7127 - categorical_accuracy: 0.9722 - val_loss: 0.7891 - val_categorical_accuracy: 0.8333\n",
            "Epoch 23/200\n",
            "4/4 [==============================] - 0s 11ms/step - loss: 0.6959 - categorical_accuracy: 0.9722 - val_loss: 0.7765 - val_categorical_accuracy: 0.8333\n",
            "Epoch 24/200\n",
            "4/4 [==============================] - 0s 10ms/step - loss: 0.6802 - categorical_accuracy: 0.9722 - val_loss: 0.7638 - val_categorical_accuracy: 0.8333\n",
            "Epoch 25/200\n",
            "4/4 [==============================] - 0s 12ms/step - loss: 0.6649 - categorical_accuracy: 0.9722 - val_loss: 0.7530 - val_categorical_accuracy: 0.8333\n",
            "Epoch 26/200\n",
            "4/4 [==============================] - 0s 9ms/step - loss: 0.6507 - categorical_accuracy: 0.9815 - val_loss: 0.7420 - val_categorical_accuracy: 0.8333\n",
            "Epoch 27/200\n",
            "4/4 [==============================] - 0s 11ms/step - loss: 0.6377 - categorical_accuracy: 0.9815 - val_loss: 0.7320 - val_categorical_accuracy: 0.8333\n",
            "Epoch 28/200\n",
            "4/4 [==============================] - 0s 13ms/step - loss: 0.6254 - categorical_accuracy: 0.9815 - val_loss: 0.7220 - val_categorical_accuracy: 0.8333\n",
            "Epoch 29/200\n",
            "4/4 [==============================] - 0s 14ms/step - loss: 0.6138 - categorical_accuracy: 0.9815 - val_loss: 0.7139 - val_categorical_accuracy: 0.8333\n",
            "Epoch 30/200\n",
            "4/4 [==============================] - 0s 12ms/step - loss: 0.6029 - categorical_accuracy: 0.9815 - val_loss: 0.7058 - val_categorical_accuracy: 0.8333\n",
            "Epoch 31/200\n",
            "4/4 [==============================] - 0s 10ms/step - loss: 0.5928 - categorical_accuracy: 0.9722 - val_loss: 0.6969 - val_categorical_accuracy: 0.8333\n",
            "Epoch 32/200\n",
            "4/4 [==============================] - 0s 11ms/step - loss: 0.5827 - categorical_accuracy: 0.9722 - val_loss: 0.6884 - val_categorical_accuracy: 0.8333\n",
            "Epoch 33/200\n",
            "4/4 [==============================] - 0s 11ms/step - loss: 0.5737 - categorical_accuracy: 0.9630 - val_loss: 0.6809 - val_categorical_accuracy: 0.8333\n",
            "Epoch 34/200\n",
            "4/4 [==============================] - 0s 10ms/step - loss: 0.5647 - categorical_accuracy: 0.9630 - val_loss: 0.6737 - val_categorical_accuracy: 0.8333\n",
            "Epoch 35/200\n",
            "4/4 [==============================] - 0s 11ms/step - loss: 0.5564 - categorical_accuracy: 0.9722 - val_loss: 0.6676 - val_categorical_accuracy: 0.8333\n",
            "Epoch 36/200\n",
            "4/4 [==============================] - 0s 12ms/step - loss: 0.5481 - categorical_accuracy: 0.9722 - val_loss: 0.6609 - val_categorical_accuracy: 0.8333\n",
            "Epoch 37/200\n",
            "4/4 [==============================] - 0s 12ms/step - loss: 0.5401 - categorical_accuracy: 0.9815 - val_loss: 0.6548 - val_categorical_accuracy: 0.8333\n",
            "Epoch 38/200\n",
            "4/4 [==============================] - 0s 11ms/step - loss: 0.5328 - categorical_accuracy: 0.9815 - val_loss: 0.6497 - val_categorical_accuracy: 0.8333\n",
            "Epoch 39/200\n",
            "4/4 [==============================] - 0s 11ms/step - loss: 0.5255 - categorical_accuracy: 0.9815 - val_loss: 0.6442 - val_categorical_accuracy: 0.8333\n",
            "Epoch 40/200\n",
            "4/4 [==============================] - 0s 10ms/step - loss: 0.5185 - categorical_accuracy: 0.9815 - val_loss: 0.6380 - val_categorical_accuracy: 0.8333\n",
            "Epoch 41/200\n",
            "4/4 [==============================] - 0s 11ms/step - loss: 0.5116 - categorical_accuracy: 0.9815 - val_loss: 0.6317 - val_categorical_accuracy: 0.8333\n",
            "Epoch 42/200\n",
            "4/4 [==============================] - 0s 11ms/step - loss: 0.5050 - categorical_accuracy: 0.9815 - val_loss: 0.6256 - val_categorical_accuracy: 0.8333\n",
            "Epoch 43/200\n",
            "4/4 [==============================] - 0s 11ms/step - loss: 0.4986 - categorical_accuracy: 0.9815 - val_loss: 0.6197 - val_categorical_accuracy: 0.8333\n",
            "Epoch 44/200\n",
            "4/4 [==============================] - 0s 11ms/step - loss: 0.4925 - categorical_accuracy: 0.9815 - val_loss: 0.6144 - val_categorical_accuracy: 0.8333\n",
            "Epoch 45/200\n",
            "4/4 [==============================] - 0s 11ms/step - loss: 0.4863 - categorical_accuracy: 0.9815 - val_loss: 0.6095 - val_categorical_accuracy: 0.8333\n",
            "Epoch 46/200\n",
            "4/4 [==============================] - 0s 13ms/step - loss: 0.4804 - categorical_accuracy: 0.9815 - val_loss: 0.6050 - val_categorical_accuracy: 0.8333\n",
            "Epoch 47/200\n",
            "4/4 [==============================] - 0s 12ms/step - loss: 0.4746 - categorical_accuracy: 0.9815 - val_loss: 0.6011 - val_categorical_accuracy: 0.8333\n",
            "Epoch 48/200\n",
            "4/4 [==============================] - 0s 13ms/step - loss: 0.4689 - categorical_accuracy: 0.9815 - val_loss: 0.5973 - val_categorical_accuracy: 0.8333\n",
            "Epoch 49/200\n",
            "4/4 [==============================] - 0s 11ms/step - loss: 0.4633 - categorical_accuracy: 0.9815 - val_loss: 0.5936 - val_categorical_accuracy: 0.8333\n",
            "Epoch 50/200\n",
            "4/4 [==============================] - 0s 11ms/step - loss: 0.4581 - categorical_accuracy: 0.9815 - val_loss: 0.5892 - val_categorical_accuracy: 0.8333\n",
            "Epoch 51/200\n",
            "4/4 [==============================] - 0s 11ms/step - loss: 0.4528 - categorical_accuracy: 0.9722 - val_loss: 0.5839 - val_categorical_accuracy: 0.8333\n",
            "Epoch 52/200\n",
            "4/4 [==============================] - 0s 15ms/step - loss: 0.4475 - categorical_accuracy: 0.9815 - val_loss: 0.5786 - val_categorical_accuracy: 0.8333\n",
            "Epoch 53/200\n",
            "4/4 [==============================] - 0s 18ms/step - loss: 0.4423 - categorical_accuracy: 0.9815 - val_loss: 0.5741 - val_categorical_accuracy: 0.8333\n",
            "Epoch 54/200\n",
            "4/4 [==============================] - 0s 16ms/step - loss: 0.4372 - categorical_accuracy: 0.9815 - val_loss: 0.5691 - val_categorical_accuracy: 0.8333\n",
            "Epoch 55/200\n",
            "4/4 [==============================] - 0s 15ms/step - loss: 0.4323 - categorical_accuracy: 0.9815 - val_loss: 0.5645 - val_categorical_accuracy: 0.8333\n",
            "Epoch 56/200\n",
            "4/4 [==============================] - 0s 15ms/step - loss: 0.4274 - categorical_accuracy: 0.9815 - val_loss: 0.5599 - val_categorical_accuracy: 0.8333\n",
            "Epoch 57/200\n",
            "4/4 [==============================] - 0s 15ms/step - loss: 0.4225 - categorical_accuracy: 0.9815 - val_loss: 0.5559 - val_categorical_accuracy: 0.8333\n",
            "Epoch 58/200\n",
            "4/4 [==============================] - 0s 10ms/step - loss: 0.4177 - categorical_accuracy: 0.9815 - val_loss: 0.5518 - val_categorical_accuracy: 0.8333\n",
            "Epoch 59/200\n",
            "4/4 [==============================] - 0s 11ms/step - loss: 0.4132 - categorical_accuracy: 0.9722 - val_loss: 0.5465 - val_categorical_accuracy: 0.8333\n",
            "Epoch 60/200\n",
            "4/4 [==============================] - 0s 12ms/step - loss: 0.4084 - categorical_accuracy: 0.9815 - val_loss: 0.5426 - val_categorical_accuracy: 0.8333\n",
            "Epoch 61/200\n",
            "4/4 [==============================] - 0s 11ms/step - loss: 0.4035 - categorical_accuracy: 0.9815 - val_loss: 0.5384 - val_categorical_accuracy: 0.8333\n",
            "Epoch 62/200\n",
            "4/4 [==============================] - 0s 12ms/step - loss: 0.3990 - categorical_accuracy: 0.9815 - val_loss: 0.5349 - val_categorical_accuracy: 0.8333\n",
            "Epoch 63/200\n",
            "4/4 [==============================] - 0s 10ms/step - loss: 0.3946 - categorical_accuracy: 0.9815 - val_loss: 0.5306 - val_categorical_accuracy: 0.8333\n",
            "Epoch 64/200\n",
            "4/4 [==============================] - 0s 11ms/step - loss: 0.3898 - categorical_accuracy: 0.9815 - val_loss: 0.5271 - val_categorical_accuracy: 0.8333\n",
            "Epoch 65/200\n",
            "4/4 [==============================] - 0s 10ms/step - loss: 0.3854 - categorical_accuracy: 0.9815 - val_loss: 0.5234 - val_categorical_accuracy: 0.8333\n",
            "Epoch 66/200\n",
            "4/4 [==============================] - 0s 11ms/step - loss: 0.3812 - categorical_accuracy: 0.9815 - val_loss: 0.5197 - val_categorical_accuracy: 0.8333\n",
            "Epoch 67/200\n",
            "4/4 [==============================] - 0s 11ms/step - loss: 0.3767 - categorical_accuracy: 0.9815 - val_loss: 0.5163 - val_categorical_accuracy: 0.8333\n",
            "Epoch 68/200\n",
            "4/4 [==============================] - 0s 11ms/step - loss: 0.3723 - categorical_accuracy: 0.9815 - val_loss: 0.5120 - val_categorical_accuracy: 0.8333\n",
            "Epoch 69/200\n",
            "4/4 [==============================] - 0s 13ms/step - loss: 0.3683 - categorical_accuracy: 0.9815 - val_loss: 0.5077 - val_categorical_accuracy: 0.8333\n",
            "Epoch 70/200\n",
            "4/4 [==============================] - 0s 13ms/step - loss: 0.3637 - categorical_accuracy: 0.9815 - val_loss: 0.5042 - val_categorical_accuracy: 0.8333\n",
            "Epoch 71/200\n",
            "4/4 [==============================] - 0s 12ms/step - loss: 0.3595 - categorical_accuracy: 0.9815 - val_loss: 0.5008 - val_categorical_accuracy: 0.8333\n",
            "Epoch 72/200\n",
            "4/4 [==============================] - 0s 13ms/step - loss: 0.3553 - categorical_accuracy: 0.9815 - val_loss: 0.4967 - val_categorical_accuracy: 0.8333\n",
            "Epoch 73/200\n",
            "4/4 [==============================] - 0s 12ms/step - loss: 0.3512 - categorical_accuracy: 0.9815 - val_loss: 0.4933 - val_categorical_accuracy: 0.8333\n",
            "Epoch 74/200\n",
            "4/4 [==============================] - 0s 11ms/step - loss: 0.3470 - categorical_accuracy: 0.9722 - val_loss: 0.4895 - val_categorical_accuracy: 0.8333\n",
            "Epoch 75/200\n",
            "4/4 [==============================] - 0s 11ms/step - loss: 0.3428 - categorical_accuracy: 0.9815 - val_loss: 0.4855 - val_categorical_accuracy: 0.8333\n",
            "Epoch 76/200\n",
            "4/4 [==============================] - 0s 12ms/step - loss: 0.3395 - categorical_accuracy: 0.9815 - val_loss: 0.4821 - val_categorical_accuracy: 0.8333\n",
            "Epoch 77/200\n",
            "4/4 [==============================] - 0s 14ms/step - loss: 0.3354 - categorical_accuracy: 0.9815 - val_loss: 0.4792 - val_categorical_accuracy: 0.8333\n",
            "Epoch 78/200\n",
            "4/4 [==============================] - 0s 14ms/step - loss: 0.3309 - categorical_accuracy: 0.9815 - val_loss: 0.4764 - val_categorical_accuracy: 0.8333\n",
            "Epoch 79/200\n",
            "4/4 [==============================] - 0s 10ms/step - loss: 0.3278 - categorical_accuracy: 0.9815 - val_loss: 0.4734 - val_categorical_accuracy: 0.8333\n",
            "Epoch 80/200\n",
            "4/4 [==============================] - 0s 12ms/step - loss: 0.3238 - categorical_accuracy: 0.9815 - val_loss: 0.4713 - val_categorical_accuracy: 0.8333\n",
            "Epoch 81/200\n",
            "4/4 [==============================] - 0s 10ms/step - loss: 0.3194 - categorical_accuracy: 0.9722 - val_loss: 0.4676 - val_categorical_accuracy: 0.8333\n",
            "Epoch 82/200\n",
            "4/4 [==============================] - 0s 11ms/step - loss: 0.3155 - categorical_accuracy: 0.9722 - val_loss: 0.4635 - val_categorical_accuracy: 0.8333\n",
            "Epoch 83/200\n",
            "4/4 [==============================] - 0s 11ms/step - loss: 0.3117 - categorical_accuracy: 0.9815 - val_loss: 0.4593 - val_categorical_accuracy: 0.8333\n",
            "Epoch 84/200\n",
            "4/4 [==============================] - 0s 12ms/step - loss: 0.3079 - categorical_accuracy: 0.9815 - val_loss: 0.4555 - val_categorical_accuracy: 0.8333\n",
            "Epoch 85/200\n",
            "4/4 [==============================] - 0s 12ms/step - loss: 0.3042 - categorical_accuracy: 0.9815 - val_loss: 0.4520 - val_categorical_accuracy: 0.8333\n",
            "Epoch 86/200\n",
            "4/4 [==============================] - 0s 10ms/step - loss: 0.3005 - categorical_accuracy: 0.9815 - val_loss: 0.4488 - val_categorical_accuracy: 0.8333\n",
            "Epoch 87/200\n",
            "4/4 [==============================] - 0s 12ms/step - loss: 0.2971 - categorical_accuracy: 0.9815 - val_loss: 0.4462 - val_categorical_accuracy: 0.8333\n",
            "Epoch 88/200\n",
            "4/4 [==============================] - 0s 11ms/step - loss: 0.2930 - categorical_accuracy: 0.9815 - val_loss: 0.4434 - val_categorical_accuracy: 0.8333\n",
            "Epoch 89/200\n",
            "4/4 [==============================] - 0s 13ms/step - loss: 0.2896 - categorical_accuracy: 0.9815 - val_loss: 0.4406 - val_categorical_accuracy: 0.8333\n",
            "Epoch 90/200\n",
            "4/4 [==============================] - 0s 11ms/step - loss: 0.2858 - categorical_accuracy: 0.9815 - val_loss: 0.4376 - val_categorical_accuracy: 0.8333\n",
            "Epoch 91/200\n",
            "4/4 [==============================] - 0s 11ms/step - loss: 0.2822 - categorical_accuracy: 0.9815 - val_loss: 0.4353 - val_categorical_accuracy: 0.8333\n",
            "Epoch 92/200\n",
            "4/4 [==============================] - 0s 10ms/step - loss: 0.2790 - categorical_accuracy: 0.9722 - val_loss: 0.4328 - val_categorical_accuracy: 0.8333\n",
            "Epoch 93/200\n",
            "4/4 [==============================] - 0s 10ms/step - loss: 0.2769 - categorical_accuracy: 0.9722 - val_loss: 0.4298 - val_categorical_accuracy: 0.8333\n",
            "Epoch 94/200\n",
            "4/4 [==============================] - 0s 11ms/step - loss: 0.2726 - categorical_accuracy: 0.9722 - val_loss: 0.4260 - val_categorical_accuracy: 0.8333\n",
            "Epoch 95/200\n",
            "4/4 [==============================] - 0s 10ms/step - loss: 0.2688 - categorical_accuracy: 0.9815 - val_loss: 0.4227 - val_categorical_accuracy: 0.8333\n",
            "Epoch 96/200\n",
            "4/4 [==============================] - 0s 14ms/step - loss: 0.2657 - categorical_accuracy: 0.9815 - val_loss: 0.4203 - val_categorical_accuracy: 0.8333\n",
            "Epoch 97/200\n",
            "4/4 [==============================] - 0s 10ms/step - loss: 0.2627 - categorical_accuracy: 0.9815 - val_loss: 0.4180 - val_categorical_accuracy: 0.8333\n",
            "Epoch 98/200\n",
            "4/4 [==============================] - 0s 21ms/step - loss: 0.2595 - categorical_accuracy: 0.9815 - val_loss: 0.4159 - val_categorical_accuracy: 0.8333\n",
            "Epoch 99/200\n",
            "4/4 [==============================] - 0s 12ms/step - loss: 0.2562 - categorical_accuracy: 0.9815 - val_loss: 0.4137 - val_categorical_accuracy: 0.8333\n",
            "Epoch 100/200\n",
            "4/4 [==============================] - 0s 11ms/step - loss: 0.2531 - categorical_accuracy: 0.9815 - val_loss: 0.4111 - val_categorical_accuracy: 0.8333\n",
            "Epoch 101/200\n",
            "4/4 [==============================] - 0s 12ms/step - loss: 0.2497 - categorical_accuracy: 0.9722 - val_loss: 0.4085 - val_categorical_accuracy: 0.8333\n",
            "Epoch 102/200\n",
            "4/4 [==============================] - 0s 12ms/step - loss: 0.2470 - categorical_accuracy: 0.9722 - val_loss: 0.4058 - val_categorical_accuracy: 0.8333\n",
            "Epoch 103/200\n",
            "4/4 [==============================] - 0s 11ms/step - loss: 0.2443 - categorical_accuracy: 0.9722 - val_loss: 0.4025 - val_categorical_accuracy: 0.8333\n",
            "Epoch 104/200\n",
            "4/4 [==============================] - 0s 11ms/step - loss: 0.2410 - categorical_accuracy: 0.9722 - val_loss: 0.3993 - val_categorical_accuracy: 0.8333\n",
            "Epoch 105/200\n",
            "4/4 [==============================] - 0s 12ms/step - loss: 0.2380 - categorical_accuracy: 0.9815 - val_loss: 0.3969 - val_categorical_accuracy: 0.8333\n",
            "Epoch 106/200\n",
            "4/4 [==============================] - 0s 10ms/step - loss: 0.2346 - categorical_accuracy: 0.9815 - val_loss: 0.3946 - val_categorical_accuracy: 0.8333\n",
            "Epoch 107/200\n",
            "4/4 [==============================] - 0s 11ms/step - loss: 0.2325 - categorical_accuracy: 0.9722 - val_loss: 0.3926 - val_categorical_accuracy: 0.8333\n",
            "Epoch 108/200\n",
            "4/4 [==============================] - 0s 12ms/step - loss: 0.2295 - categorical_accuracy: 0.9722 - val_loss: 0.3904 - val_categorical_accuracy: 0.8333\n",
            "Epoch 109/200\n",
            "4/4 [==============================] - 0s 11ms/step - loss: 0.2263 - categorical_accuracy: 0.9722 - val_loss: 0.3880 - val_categorical_accuracy: 0.8333\n",
            "Epoch 110/200\n",
            "4/4 [==============================] - 0s 12ms/step - loss: 0.2237 - categorical_accuracy: 0.9815 - val_loss: 0.3857 - val_categorical_accuracy: 0.8333\n",
            "Epoch 111/200\n",
            "4/4 [==============================] - 0s 12ms/step - loss: 0.2209 - categorical_accuracy: 0.9815 - val_loss: 0.3833 - val_categorical_accuracy: 0.8333\n",
            "Epoch 112/200\n",
            "4/4 [==============================] - 0s 12ms/step - loss: 0.2181 - categorical_accuracy: 0.9815 - val_loss: 0.3815 - val_categorical_accuracy: 0.8333\n",
            "Epoch 113/200\n",
            "4/4 [==============================] - 0s 10ms/step - loss: 0.2157 - categorical_accuracy: 0.9815 - val_loss: 0.3794 - val_categorical_accuracy: 0.8333\n",
            "Epoch 114/200\n",
            "4/4 [==============================] - 0s 12ms/step - loss: 0.2130 - categorical_accuracy: 0.9815 - val_loss: 0.3775 - val_categorical_accuracy: 0.8333\n",
            "Epoch 115/200\n",
            "4/4 [==============================] - 0s 11ms/step - loss: 0.2103 - categorical_accuracy: 0.9815 - val_loss: 0.3754 - val_categorical_accuracy: 0.8333\n",
            "Epoch 116/200\n",
            "4/4 [==============================] - 0s 11ms/step - loss: 0.2079 - categorical_accuracy: 0.9815 - val_loss: 0.3727 - val_categorical_accuracy: 0.8333\n",
            "Epoch 117/200\n",
            "4/4 [==============================] - 0s 10ms/step - loss: 0.2049 - categorical_accuracy: 0.9815 - val_loss: 0.3708 - val_categorical_accuracy: 0.8333\n",
            "Epoch 118/200\n",
            "4/4 [==============================] - 0s 11ms/step - loss: 0.2028 - categorical_accuracy: 0.9722 - val_loss: 0.3686 - val_categorical_accuracy: 0.8333\n",
            "Epoch 119/200\n",
            "4/4 [==============================] - 0s 11ms/step - loss: 0.2000 - categorical_accuracy: 0.9722 - val_loss: 0.3671 - val_categorical_accuracy: 0.8333\n",
            "Epoch 120/200\n",
            "4/4 [==============================] - 0s 12ms/step - loss: 0.1976 - categorical_accuracy: 0.9722 - val_loss: 0.3651 - val_categorical_accuracy: 0.8333\n",
            "Epoch 121/200\n",
            "4/4 [==============================] - 0s 11ms/step - loss: 0.1952 - categorical_accuracy: 0.9722 - val_loss: 0.3631 - val_categorical_accuracy: 0.8333\n",
            "Epoch 122/200\n",
            "4/4 [==============================] - 0s 10ms/step - loss: 0.1929 - categorical_accuracy: 0.9722 - val_loss: 0.3614 - val_categorical_accuracy: 0.8333\n",
            "Epoch 123/200\n",
            "4/4 [==============================] - 0s 11ms/step - loss: 0.1906 - categorical_accuracy: 0.9722 - val_loss: 0.3598 - val_categorical_accuracy: 0.8333\n",
            "Epoch 124/200\n",
            "4/4 [==============================] - 0s 10ms/step - loss: 0.1885 - categorical_accuracy: 0.9815 - val_loss: 0.3589 - val_categorical_accuracy: 0.8333\n",
            "Epoch 125/200\n",
            "4/4 [==============================] - 0s 11ms/step - loss: 0.1862 - categorical_accuracy: 0.9815 - val_loss: 0.3569 - val_categorical_accuracy: 0.8333\n",
            "Epoch 126/200\n",
            "4/4 [==============================] - 0s 14ms/step - loss: 0.1837 - categorical_accuracy: 0.9722 - val_loss: 0.3559 - val_categorical_accuracy: 0.8333\n",
            "Epoch 127/200\n",
            "4/4 [==============================] - 0s 12ms/step - loss: 0.1817 - categorical_accuracy: 0.9722 - val_loss: 0.3553 - val_categorical_accuracy: 0.8333\n",
            "Epoch 128/200\n",
            "4/4 [==============================] - 0s 10ms/step - loss: 0.1797 - categorical_accuracy: 0.9815 - val_loss: 0.3539 - val_categorical_accuracy: 0.8333\n",
            "Epoch 129/200\n",
            "4/4 [==============================] - 0s 10ms/step - loss: 0.1776 - categorical_accuracy: 0.9722 - val_loss: 0.3516 - val_categorical_accuracy: 0.8333\n",
            "Epoch 130/200\n",
            "4/4 [==============================] - 0s 11ms/step - loss: 0.1753 - categorical_accuracy: 0.9722 - val_loss: 0.3502 - val_categorical_accuracy: 0.8333\n",
            "Epoch 131/200\n",
            "4/4 [==============================] - 0s 11ms/step - loss: 0.1735 - categorical_accuracy: 0.9722 - val_loss: 0.3483 - val_categorical_accuracy: 0.8333\n",
            "Epoch 132/200\n",
            "4/4 [==============================] - 0s 10ms/step - loss: 0.1718 - categorical_accuracy: 0.9722 - val_loss: 0.3474 - val_categorical_accuracy: 0.8333\n",
            "Epoch 133/200\n",
            "4/4 [==============================] - 0s 15ms/step - loss: 0.1694 - categorical_accuracy: 0.9815 - val_loss: 0.3446 - val_categorical_accuracy: 0.8333\n",
            "Epoch 134/200\n",
            "4/4 [==============================] - 0s 32ms/step - loss: 0.1675 - categorical_accuracy: 0.9722 - val_loss: 0.3428 - val_categorical_accuracy: 0.9167\n",
            "Epoch 135/200\n",
            "4/4 [==============================] - 0s 14ms/step - loss: 0.1659 - categorical_accuracy: 0.9722 - val_loss: 0.3413 - val_categorical_accuracy: 0.9167\n",
            "Epoch 136/200\n",
            "4/4 [==============================] - 0s 14ms/step - loss: 0.1640 - categorical_accuracy: 0.9722 - val_loss: 0.3405 - val_categorical_accuracy: 0.8333\n",
            "Epoch 137/200\n",
            "4/4 [==============================] - 0s 10ms/step - loss: 0.1622 - categorical_accuracy: 0.9722 - val_loss: 0.3393 - val_categorical_accuracy: 0.8333\n",
            "Epoch 138/200\n",
            "4/4 [==============================] - 0s 10ms/step - loss: 0.1604 - categorical_accuracy: 0.9722 - val_loss: 0.3390 - val_categorical_accuracy: 0.8333\n",
            "Epoch 139/200\n",
            "4/4 [==============================] - 0s 10ms/step - loss: 0.1585 - categorical_accuracy: 0.9722 - val_loss: 0.3389 - val_categorical_accuracy: 0.8333\n",
            "Epoch 140/200\n",
            "4/4 [==============================] - 0s 11ms/step - loss: 0.1573 - categorical_accuracy: 0.9815 - val_loss: 0.3397 - val_categorical_accuracy: 0.8333\n",
            "Epoch 141/200\n",
            "4/4 [==============================] - 0s 10ms/step - loss: 0.1554 - categorical_accuracy: 0.9815 - val_loss: 0.3377 - val_categorical_accuracy: 0.8333\n",
            "Epoch 142/200\n",
            "4/4 [==============================] - 0s 12ms/step - loss: 0.1534 - categorical_accuracy: 0.9815 - val_loss: 0.3356 - val_categorical_accuracy: 0.8333\n",
            "Epoch 143/200\n",
            "4/4 [==============================] - 0s 11ms/step - loss: 0.1523 - categorical_accuracy: 0.9722 - val_loss: 0.3333 - val_categorical_accuracy: 0.9167\n",
            "Epoch 144/200\n",
            "4/4 [==============================] - 0s 13ms/step - loss: 0.1505 - categorical_accuracy: 0.9722 - val_loss: 0.3323 - val_categorical_accuracy: 0.9167\n",
            "Epoch 145/200\n",
            "4/4 [==============================] - 0s 12ms/step - loss: 0.1488 - categorical_accuracy: 0.9722 - val_loss: 0.3312 - val_categorical_accuracy: 0.9167\n",
            "Epoch 146/200\n",
            "4/4 [==============================] - 0s 10ms/step - loss: 0.1471 - categorical_accuracy: 0.9722 - val_loss: 0.3305 - val_categorical_accuracy: 0.9167\n",
            "Epoch 147/200\n",
            "4/4 [==============================] - 0s 13ms/step - loss: 0.1456 - categorical_accuracy: 0.9722 - val_loss: 0.3305 - val_categorical_accuracy: 0.8333\n",
            "Epoch 148/200\n",
            "4/4 [==============================] - 0s 11ms/step - loss: 0.1442 - categorical_accuracy: 0.9815 - val_loss: 0.3305 - val_categorical_accuracy: 0.8333\n",
            "Epoch 149/200\n",
            "4/4 [==============================] - 0s 13ms/step - loss: 0.1425 - categorical_accuracy: 0.9815 - val_loss: 0.3293 - val_categorical_accuracy: 0.8333\n",
            "Epoch 150/200\n",
            "4/4 [==============================] - 0s 12ms/step - loss: 0.1411 - categorical_accuracy: 0.9815 - val_loss: 0.3276 - val_categorical_accuracy: 0.8333\n",
            "Epoch 151/200\n",
            "4/4 [==============================] - 0s 11ms/step - loss: 0.1398 - categorical_accuracy: 0.9722 - val_loss: 0.3255 - val_categorical_accuracy: 0.9167\n",
            "Epoch 152/200\n",
            "4/4 [==============================] - 0s 11ms/step - loss: 0.1382 - categorical_accuracy: 0.9722 - val_loss: 0.3246 - val_categorical_accuracy: 0.9167\n",
            "Epoch 153/200\n",
            "4/4 [==============================] - 0s 10ms/step - loss: 0.1367 - categorical_accuracy: 0.9722 - val_loss: 0.3249 - val_categorical_accuracy: 0.8333\n",
            "Epoch 154/200\n",
            "4/4 [==============================] - 0s 10ms/step - loss: 0.1354 - categorical_accuracy: 0.9722 - val_loss: 0.3245 - val_categorical_accuracy: 0.8333\n",
            "Epoch 155/200\n",
            "4/4 [==============================] - 0s 11ms/step - loss: 0.1345 - categorical_accuracy: 0.9815 - val_loss: 0.3250 - val_categorical_accuracy: 0.8333\n",
            "Epoch 156/200\n",
            "4/4 [==============================] - 0s 11ms/step - loss: 0.1332 - categorical_accuracy: 0.9815 - val_loss: 0.3235 - val_categorical_accuracy: 0.8333\n",
            "Epoch 157/200\n",
            "4/4 [==============================] - 0s 10ms/step - loss: 0.1314 - categorical_accuracy: 0.9815 - val_loss: 0.3242 - val_categorical_accuracy: 0.8333\n",
            "Epoch 158/200\n",
            "4/4 [==============================] - 0s 11ms/step - loss: 0.1311 - categorical_accuracy: 0.9815 - val_loss: 0.3244 - val_categorical_accuracy: 0.8333\n",
            "Epoch 159/200\n",
            "4/4 [==============================] - 0s 13ms/step - loss: 0.1300 - categorical_accuracy: 0.9815 - val_loss: 0.3195 - val_categorical_accuracy: 0.9167\n",
            "Epoch 160/200\n",
            "4/4 [==============================] - 0s 10ms/step - loss: 0.1280 - categorical_accuracy: 0.9722 - val_loss: 0.3178 - val_categorical_accuracy: 0.9167\n",
            "Epoch 161/200\n",
            "4/4 [==============================] - 0s 22ms/step - loss: 0.1271 - categorical_accuracy: 0.9722 - val_loss: 0.3161 - val_categorical_accuracy: 0.9167\n",
            "Epoch 162/200\n",
            "4/4 [==============================] - 0s 13ms/step - loss: 0.1261 - categorical_accuracy: 0.9722 - val_loss: 0.3150 - val_categorical_accuracy: 0.9167\n",
            "Epoch 163/200\n",
            "4/4 [==============================] - 0s 11ms/step - loss: 0.1248 - categorical_accuracy: 0.9722 - val_loss: 0.3150 - val_categorical_accuracy: 0.9167\n",
            "Epoch 164/200\n",
            "4/4 [==============================] - 0s 10ms/step - loss: 0.1237 - categorical_accuracy: 0.9722 - val_loss: 0.3162 - val_categorical_accuracy: 0.9167\n",
            "Epoch 165/200\n",
            "4/4 [==============================] - 0s 13ms/step - loss: 0.1221 - categorical_accuracy: 0.9722 - val_loss: 0.3154 - val_categorical_accuracy: 0.9167\n",
            "Epoch 166/200\n",
            "4/4 [==============================] - 0s 11ms/step - loss: 0.1211 - categorical_accuracy: 0.9722 - val_loss: 0.3155 - val_categorical_accuracy: 0.9167\n",
            "Epoch 167/200\n",
            "4/4 [==============================] - 0s 12ms/step - loss: 0.1201 - categorical_accuracy: 0.9722 - val_loss: 0.3140 - val_categorical_accuracy: 0.9167\n",
            "Epoch 168/200\n",
            "4/4 [==============================] - 0s 12ms/step - loss: 0.1188 - categorical_accuracy: 0.9722 - val_loss: 0.3127 - val_categorical_accuracy: 0.9167\n",
            "Epoch 169/200\n",
            "4/4 [==============================] - 0s 11ms/step - loss: 0.1187 - categorical_accuracy: 0.9722 - val_loss: 0.3100 - val_categorical_accuracy: 0.9167\n",
            "Epoch 170/200\n",
            "4/4 [==============================] - 0s 12ms/step - loss: 0.1176 - categorical_accuracy: 0.9722 - val_loss: 0.3087 - val_categorical_accuracy: 0.9167\n",
            "Epoch 171/200\n",
            "4/4 [==============================] - 0s 11ms/step - loss: 0.1168 - categorical_accuracy: 0.9722 - val_loss: 0.3102 - val_categorical_accuracy: 0.9167\n",
            "Epoch 172/200\n",
            "4/4 [==============================] - 0s 12ms/step - loss: 0.1149 - categorical_accuracy: 0.9722 - val_loss: 0.3103 - val_categorical_accuracy: 0.9167\n",
            "Epoch 173/200\n",
            "4/4 [==============================] - 0s 13ms/step - loss: 0.1138 - categorical_accuracy: 0.9722 - val_loss: 0.3106 - val_categorical_accuracy: 0.9167\n",
            "Epoch 174/200\n",
            "4/4 [==============================] - 0s 11ms/step - loss: 0.1131 - categorical_accuracy: 0.9722 - val_loss: 0.3118 - val_categorical_accuracy: 0.9167\n",
            "Epoch 175/200\n",
            "4/4 [==============================] - 0s 11ms/step - loss: 0.1129 - categorical_accuracy: 0.9815 - val_loss: 0.3144 - val_categorical_accuracy: 0.8333\n",
            "Epoch 176/200\n",
            "4/4 [==============================] - 0s 11ms/step - loss: 0.1116 - categorical_accuracy: 0.9815 - val_loss: 0.3135 - val_categorical_accuracy: 0.8333\n",
            "Epoch 177/200\n",
            "4/4 [==============================] - 0s 11ms/step - loss: 0.1105 - categorical_accuracy: 0.9815 - val_loss: 0.3132 - val_categorical_accuracy: 0.9167\n",
            "Epoch 178/200\n",
            "4/4 [==============================] - 0s 10ms/step - loss: 0.1096 - categorical_accuracy: 0.9815 - val_loss: 0.3126 - val_categorical_accuracy: 0.9167\n",
            "Epoch 179/200\n",
            "4/4 [==============================] - 0s 13ms/step - loss: 0.1095 - categorical_accuracy: 0.9722 - val_loss: 0.3089 - val_categorical_accuracy: 0.9167\n",
            "Epoch 180/200\n",
            "4/4 [==============================] - 0s 10ms/step - loss: 0.1078 - categorical_accuracy: 0.9722 - val_loss: 0.3087 - val_categorical_accuracy: 0.9167\n",
            "Epoch 181/200\n",
            "4/4 [==============================] - 0s 12ms/step - loss: 0.1069 - categorical_accuracy: 0.9722 - val_loss: 0.3080 - val_categorical_accuracy: 0.9167\n",
            "Epoch 182/200\n",
            "4/4 [==============================] - 0s 13ms/step - loss: 0.1058 - categorical_accuracy: 0.9722 - val_loss: 0.3083 - val_categorical_accuracy: 0.9167\n",
            "Epoch 183/200\n",
            "4/4 [==============================] - 0s 12ms/step - loss: 0.1051 - categorical_accuracy: 0.9815 - val_loss: 0.3103 - val_categorical_accuracy: 0.9167\n",
            "Epoch 184/200\n",
            "4/4 [==============================] - 0s 11ms/step - loss: 0.1057 - categorical_accuracy: 0.9815 - val_loss: 0.3138 - val_categorical_accuracy: 0.8333\n",
            "Epoch 185/200\n",
            "4/4 [==============================] - 0s 24ms/step - loss: 0.1046 - categorical_accuracy: 0.9815 - val_loss: 0.3093 - val_categorical_accuracy: 0.9167\n",
            "Epoch 186/200\n",
            "4/4 [==============================] - 0s 12ms/step - loss: 0.1026 - categorical_accuracy: 0.9815 - val_loss: 0.3059 - val_categorical_accuracy: 0.9167\n",
            "Epoch 187/200\n",
            "4/4 [==============================] - 0s 10ms/step - loss: 0.1020 - categorical_accuracy: 0.9722 - val_loss: 0.3042 - val_categorical_accuracy: 0.9167\n",
            "Epoch 188/200\n",
            "4/4 [==============================] - 0s 11ms/step - loss: 0.1014 - categorical_accuracy: 0.9722 - val_loss: 0.3030 - val_categorical_accuracy: 0.9167\n",
            "Epoch 189/200\n",
            "4/4 [==============================] - 0s 12ms/step - loss: 0.1008 - categorical_accuracy: 0.9722 - val_loss: 0.3029 - val_categorical_accuracy: 0.9167\n",
            "Epoch 190/200\n",
            "4/4 [==============================] - 0s 10ms/step - loss: 0.0999 - categorical_accuracy: 0.9722 - val_loss: 0.3053 - val_categorical_accuracy: 0.9167\n",
            "Epoch 191/200\n",
            "4/4 [==============================] - 0s 10ms/step - loss: 0.0989 - categorical_accuracy: 0.9722 - val_loss: 0.3066 - val_categorical_accuracy: 0.9167\n",
            "Epoch 192/200\n",
            "4/4 [==============================] - 0s 11ms/step - loss: 0.0984 - categorical_accuracy: 0.9815 - val_loss: 0.3067 - val_categorical_accuracy: 0.9167\n",
            "Epoch 193/200\n",
            "4/4 [==============================] - 0s 13ms/step - loss: 0.0976 - categorical_accuracy: 0.9815 - val_loss: 0.3074 - val_categorical_accuracy: 0.9167\n",
            "Epoch 194/200\n",
            "4/4 [==============================] - 0s 11ms/step - loss: 0.0971 - categorical_accuracy: 0.9815 - val_loss: 0.3074 - val_categorical_accuracy: 0.9167\n",
            "Epoch 195/200\n",
            "4/4 [==============================] - 0s 12ms/step - loss: 0.0966 - categorical_accuracy: 0.9815 - val_loss: 0.3044 - val_categorical_accuracy: 0.9167\n",
            "Epoch 196/200\n",
            "4/4 [==============================] - 0s 11ms/step - loss: 0.0955 - categorical_accuracy: 0.9722 - val_loss: 0.3033 - val_categorical_accuracy: 0.9167\n",
            "Epoch 197/200\n",
            "4/4 [==============================] - 0s 15ms/step - loss: 0.0954 - categorical_accuracy: 0.9722 - val_loss: 0.3008 - val_categorical_accuracy: 0.9167\n",
            "Epoch 198/200\n",
            "4/4 [==============================] - 0s 13ms/step - loss: 0.0945 - categorical_accuracy: 0.9722 - val_loss: 0.3006 - val_categorical_accuracy: 0.9167\n",
            "Epoch 199/200\n",
            "4/4 [==============================] - 0s 11ms/step - loss: 0.0943 - categorical_accuracy: 0.9722 - val_loss: 0.3009 - val_categorical_accuracy: 0.9167\n",
            "Epoch 200/200\n",
            "4/4 [==============================] - 0s 12ms/step - loss: 0.0932 - categorical_accuracy: 0.9722 - val_loss: 0.3005 - val_categorical_accuracy: 0.9167\n"
          ]
        }
      ],
      "source": [
        "from tensorflow.keras.models import Sequential\n",
        "from tensorflow.keras.layers import Dense\n",
        "\n",
        "def create_model(numInput,numClasses):\n",
        "  model = Sequential()\n",
        "  model.add(Dense(numInput,activation='tanh', input_dim=numInput))\n",
        "  model.add(Dense(14,activation='tanh'))\n",
        "  model.add(Dense(numClasses,activation='softmax'))\n",
        "  model.compile('Adam','categorical_crossentropy', metrics=['categorical_accuracy'])\n",
        "\n",
        "  return model\n",
        "\n",
        "model = create_model(4,3)\n",
        "\n",
        "history = model.fit(data_treino,classe_treino_onehot,epochs=200, validation_split=0.1)"
      ]
    },
    {
      "cell_type": "markdown",
      "metadata": {
        "id": "pTON9ys_f0L4"
      },
      "source": [
        "Modelo da rede neural"
      ]
    },
    {
      "cell_type": "code",
      "execution_count": 26,
      "metadata": {
        "colab": {
          "base_uri": "https://localhost:8080/",
          "height": 129
        },
        "id": "fXJYyqbSf0fd",
        "outputId": "118d64b4-c533-46d3-e76f-730254da44ca"
      },
      "outputs": [
        {
          "data": {
            "image/png": "[encoded data removed]",
            "text/plain": [
              "<IPython.core.display.Image object>"
            ]
          },
          "execution_count": 26,
          "metadata": {},
          "output_type": "execute_result"
        }
      ],
      "source": [
        "from tensorflow.keras.utils import plot_model\n",
        "\n",
        "plot_model(model,show_shapes=True,show_layer_names=False,rankdir=\"LR\",dpi=130)"
      ]
    },
    {
      "cell_type": "markdown",
      "metadata": {
        "id": "bnFBO-tOf8YO"
      },
      "source": [
        "Gráficos"
      ]
    },
    {
      "cell_type": "code",
      "execution_count": 20,
      "metadata": {
        "colab": {
          "base_uri": "https://localhost:8080/",
          "height": 732
        },
        "id": "2_pnFMgVf900",
        "outputId": "fb136aeb-4fd0-423c-b7c9-1c4b05c70fd0"
      },
      "outputs": [
        {
          "data": {
            "image/png": "[encoded data removed]",
            "text/plain": [
              "<Figure size 800x1200 with 2 Axes>"
            ]
          },
          "metadata": {},
          "output_type": "display_data"
        }
      ],
      "source": [
        "import matplotlib.pyplot as plt\n",
        "\n",
        "def plot_metrics(history):\n",
        "  fig, axes = plt.subplots(2,1,figsize=(8,12))\n",
        "\n",
        "  #  \"Accuracy\"\n",
        "  axes[0].plot(history.history['categorical_accuracy'])\n",
        "  axes[0].set_title('Acurácia')\n",
        "  # \"Loss\"\n",
        "  axes[1].plot(history.history['loss'])\n",
        "  axes[1].set_title('Erro')\n",
        "\n",
        "  if 'val_loss' in history.history.keys():\n",
        "    axes[0].plot(history.history['val_categorical_accuracy'])\n",
        "    axes[1].plot(history.history['val_loss'])\n",
        "    axes[0].legend(['Treino', 'Validação'])\n",
        "    axes[1].legend(['Treino', 'Validação'])\n",
        "\n",
        "  plt.xlabel('Épocas')\n",
        "\n",
        "  plt.show()\n",
        "\n",
        "plot_metrics(history)"
      ]
    },
    {
      "cell_type": "markdown",
      "metadata": {
        "id": "HlLw1GsHf_VC"
      },
      "source": [
        "Testando a rede neural"
      ]
    },
    {
      "cell_type": "code",
      "execution_count": 21,
      "metadata": {
        "id": "hKnLYpATgAzQ"
      },
      "outputs": [
        {
          "name": "stdout",
          "output_type": "stream",
          "text": [
            "1/1 [==============================] - 0s 68ms/step\n"
          ]
        }
      ],
      "source": [
        "classe_predita_onehot = model.predict(data_teste)\n",
        "classe_predita = classe_predita_onehot.argmax(axis=1)"
      ]
    },
    {
      "cell_type": "markdown",
      "metadata": {
        "id": "o_DTFvC5gCjJ"
      },
      "source": [
        "Matriz de confusão"
      ]
    },
    {
      "cell_type": "code",
      "execution_count": 22,
      "metadata": {
        "colab": {
          "base_uri": "https://localhost:8080/"
        },
        "id": "ZZ2bfyVxgD0S",
        "outputId": "c7dcc9a4-42e0-4811-b364-8cf2cc55c454"
      },
      "outputs": [
        {
          "name": "stdout",
          "output_type": "stream",
          "text": [
            "[[13  0  0]\n",
            " [ 0  6  0]\n",
            " [ 0  1 10]]\n"
          ]
        }
      ],
      "source": [
        "#Matriz de confusão já com 3 classes:\n",
        "from sklearn.metrics import confusion_matrix\n",
        "from sklearn.metrics import multilabel_confusion_matrix\n",
        "import numpy as np\n",
        "\n",
        "matriz_confusao = confusion_matrix(classe_teste, classe_predita, labels=range(3))\n",
        "print(matriz_confusao)"
      ]
    },
    {
      "cell_type": "markdown",
      "metadata": {
        "id": "dFtsyd6YgE4w"
      },
      "source": [
        "Métricas"
      ]
    },
    {
      "cell_type": "code",
      "execution_count": 23,
      "metadata": {
        "colab": {
          "base_uri": "https://localhost:8080/"
        },
        "id": "eNKo2h2XgGJg",
        "outputId": "eb7f99b5-05de-41a8-d5d5-a2f6610d0c3c"
      },
      "outputs": [
        {
          "name": "stdout",
          "output_type": "stream",
          "text": [
            "Precision or positive predictive: 0.971\n",
            "Recall or Sensitivity: 0.967\n",
            "Accuracy: 0.967\n",
            "F1 Score: 0.967\n",
            "Precision Recall F1-Score Support for each class:\n",
            "precision or positive predictive: [1.         0.85714286 1.        ]\n",
            "recall or sensitivity: [1.         1.         0.90909091]\n",
            "fscore: [1.         0.92307692 0.95238095]\n",
            "support: [13  6 11]\n",
            "Accuracy for each class:\n",
            "[1.         1.         0.90909091]\n",
            "              precision    recall  f1-score   support\n",
            "\n",
            "           0       1.00      1.00      1.00        13\n",
            "           1       0.86      1.00      0.92         6\n",
            "           2       1.00      0.91      0.95        11\n",
            "\n",
            "    accuracy                           0.97        30\n",
            "   macro avg       0.95      0.97      0.96        30\n",
            "weighted avg       0.97      0.97      0.97        30\n",
            "\n"
          ]
        }
      ],
      "source": [
        "#https://medium.com/data-hackers/entendendo-o-que-%C3%A9-matriz-de-confus%C3%A3o-com-python-114e683ec509\n",
        "#https://vitalflux.com/accuracy-precision-recall-f1-score-python-example/\n",
        "from sklearn.metrics import precision_score, recall_score, f1_score, accuracy_score\n",
        "from sklearn.metrics import precision_recall_fscore_support\n",
        "from sklearn.metrics import classification_report\n",
        "\n",
        "print('Precision or positive predictive: %.3f' % precision_score(classe_teste,classe_predita,average='weighted',zero_division=1))\n",
        "print('Recall or Sensitivity: %.3f' % recall_score(classe_teste, classe_predita,average='weighted',zero_division=1))\n",
        "print('Accuracy: %.3f' % accuracy_score(classe_teste, classe_predita))\n",
        "print('F1 Score: %.3f' % f1_score(classe_teste, classe_predita,average='weighted',zero_division=1))\n",
        "print('Precision Recall F1-Score Support for each class:')\n",
        "#print(precision_recall_fscore_support(lista_classes_originais, lista_classes_preditas,average='weighted',labels=[0,1,2,3]))\n",
        "precision, recall, fscore, support = precision_recall_fscore_support(classe_teste, classe_predita,\n",
        "    zero_division=1)\n",
        "print('precision or positive predictive: {}'.format(precision))\n",
        "print('recall or sensitivity: {}'.format(recall))\n",
        "print('fscore: {}'.format(fscore))\n",
        "print('support: {}'.format(support))\n",
        "\n",
        "#The diagonal entries are the accuracies of each class\n",
        "matriz_confusao = matriz_confusao.astype('float') / matriz_confusao.sum(axis=1)[:, np.newaxis]\n",
        "acuracia_classes = matriz_confusao.diagonal()\n",
        "print('Accuracy for each class:')\n",
        "print(acuracia_classes)\n",
        "\n",
        "print(classification_report(classe_teste, classe_predita, zero_division=1))"
      ]
    }
  ],
  "metadata": {
    "colab": {
      "authorship_tag": "ABX9TyM9d7M2V6neOyY9vyPpnw4j",
      "collapsed_sections": [],
      "include_colab_link": true,
      "mount_file_id": "1ELA3znIuGGbQuAr5NdMnA95s0JXt8xNi",
      "provenance": []
    },
    "kernelspec": {
      "display_name": "Python 3.10.8 64-bit",
      "language": "python",
      "name": "python3"
    },
    "language_info": {
      "codemirror_mode": {
        "name": "ipython",
        "version": 3
      },
      "file_extension": ".py",
      "mimetype": "text/x-python",
      "name": "python",
      "nbconvert_exporter": "python",
      "pygments_lexer": "ipython3",
      "version": "3.10.8"
    },
    "vscode": {
      "interpreter": {
        "hash": "5722daad9755055b013a651651e76bfefcd0039befef69efb03fa00fbea6a530"
      }
    }
  },
  "nbformat": 4,
  "nbformat_minor": 0
}
